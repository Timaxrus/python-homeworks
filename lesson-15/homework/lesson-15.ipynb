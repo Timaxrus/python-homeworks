{
 "cells": [
  {
   "cell_type": "markdown",
   "id": "33d8c40c",
   "metadata": {},
   "source": [
    "#### 1."
   ]
  },
  {
   "cell_type": "code",
   "execution_count": null,
   "id": "e09c401b",
   "metadata": {},
   "outputs": [],
   "source": [
    "import sqlite3\n",
    "\n",
    "# 1. Connect to database (creates it if it doesn't exist)\n",
    "connection = sqlite3.connect('NewDB.db')\n",
    "\n",
    "# 2. Create a cursor object to execute SQL commands\n",
    "cursor = connection.cursor()\n",
    "\n",
    "# 3. Create the Roster table\n",
    "cursor.execute('''\n",
    "CREATE TABLE IF NOT EXISTS Roster (\n",
    "    Name TEXT,\n",
    "    Species TEXT,\n",
    "    Age INTEGER\n",
    ")\n",
    "''')\n",
    "\n",
    "# 4. Commit changes and close connection\n",
    "connection.commit()\n",
    "connection.close()\n",
    "\n",
    "print(\"Database created successfully with Roster table!\")"
   ]
  },
  {
   "cell_type": "markdown",
   "id": "1717dfd6",
   "metadata": {},
   "source": [
    "#### 2."
   ]
  },
  {
   "cell_type": "code",
   "execution_count": null,
   "id": "21dcdbce",
   "metadata": {},
   "outputs": [],
   "source": [
    "import sqlite3\n",
    "\n",
    "try:\n",
    "    # 1. Connect to database (creates it if it doesn't exist)\n",
    "    connection = sqlite3.connect('NewDB.db')\n",
    "\n",
    "    # 2. Create a cursor object to execute SQL commands\n",
    "    cursor = connection.cursor()\n",
    "\n",
    "    # 3. Creating the insert query with values to be inserted into the \"Roster\" table\n",
    "    insert_query = ''' \n",
    "    CREATE TABLE IF NOT EXISTS Roster (Name TEXT, Species TEXT, Age INTEGER);\n",
    "    DELETE FROM Roster;\n",
    "    INSERT INTO Roster VALUES\n",
    "        (\"Banjamin Sisko\", \"Human\", 40),\n",
    "        (\"Jadzia Dax\", \"Trill\", 300),\n",
    "        (\"Kira Nerys\", \"Bajoran\", 29) '''\n",
    "\n",
    "    # 4. Executing the insert query\n",
    "    cursor.executescript(insert_query)\n",
    "\n",
    "    # 5. Testing if all the data has been inserted\n",
    "    # cursor.execute(\"SELECT * FROM Roster\")\n",
    "\n",
    "    # 6. Printing the inserted data\n",
    "    for row in conn.execute(\"SELECT * FROM Roster\"):\n",
    "                print(f\"  {row[0]:<16} {row[1]:<8} {row[2]:>3}\")\n",
    "\n",
    "    # 7. Committing the insertion\n",
    "    connection.commit()\n",
    "\n",
    "\n",
    "\n",
    "    # 8. Closing the database\n",
    "    connection.close()\n",
    "\n",
    "except sqlite3.Error as e:\n",
    "    print(f\"Insert error: {e}\")\n",
    "\n",
    "except Exception as ex:\n",
    "    print(f\"Error: {ex}\")\n",
    "\n",
    "print(\"\\nThe data has successfully been inserted.\")"
   ]
  },
  {
   "cell_type": "markdown",
   "id": "843094f1",
   "metadata": {},
   "source": [
    "#### 3."
   ]
  },
  {
   "cell_type": "code",
   "execution_count": null,
   "id": "b5dc34ed",
   "metadata": {},
   "outputs": [],
   "source": [
    "import sqlite3\n",
    "\n",
    "# Connect to database\n",
    "with sqlite3.connect(\"NewDB.db\") as conn:\n",
    "    try:\n",
    "        # Start a transaction\n",
    "        with conn:\n",
    "            cursor = conn.cursor()\n",
    "            \n",
    "            # Use parameterized query\n",
    "            cursor.execute(\"\"\"\n",
    "                UPDATE Roster\n",
    "                SET Name = ?\n",
    "                WHERE Name = ?\n",
    "            \"\"\", ('Ezri Dax', 'Jadzia Dax'))\n",
    "            \n",
    "            # Check if update was successful\n",
    "            if cursor.rowcount > 0:\n",
    "                print(f\"Successfully updated {cursor.rowcount} record(s)\")\n",
    "            else:\n",
    "                print(\"No records were updated - name not found\")\n",
    "                \n",
    "    except sqlite3.Error as e:\n",
    "        print(f\"Database error occurred: {e}\")\n",
    "    except Exception as e:\n",
    "        print(f\"An unexpected error occurred: {e}\")"
   ]
  },
  {
   "cell_type": "markdown",
   "id": "2f98ea58",
   "metadata": {},
   "source": [
    "#### 4."
   ]
  },
  {
   "cell_type": "code",
   "execution_count": null,
   "id": "eb425f17",
   "metadata": {},
   "outputs": [],
   "source": [
    "import sqlite3\n",
    "\n",
    "with sqlite3.connect(\"NewDB.db\") as conn:\n",
    "    # Starting transaction\n",
    "    with conn:\n",
    "        cursor = conn.cursor()\n",
    "\n",
    "        # Looping through the outcome of the \"Select\" statement (Name, Age)\n",
    "        for i in cursor.execute(\"SELECT Name, Age FROM Roster WHERE Species = 'Bajoran'\"):\n",
    "            print(f\"Name: {i[0]} \\nAge: {i[1]}\")"
   ]
  }
 ],
 "metadata": {
  "kernelspec": {
   "display_name": "my_env",
   "language": "python",
   "name": "python3"
  },
  "language_info": {
   "codemirror_mode": {
    "name": "ipython",
    "version": 3
   },
   "file_extension": ".py",
   "mimetype": "text/x-python",
   "name": "python",
   "nbconvert_exporter": "python",
   "pygments_lexer": "ipython3",
   "version": "3.13.1"
  }
 },
 "nbformat": 4,
 "nbformat_minor": 5
}
