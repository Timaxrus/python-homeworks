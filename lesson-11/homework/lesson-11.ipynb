{
 "cells": [
  {
   "cell_type": "markdown",
   "id": "7999f855",
   "metadata": {},
   "source": [
    "### 1. Importing my cutom module \"match_operations\""
   ]
  },
  {
   "cell_type": "code",
   "execution_count": null,
   "id": "dc08639e",
   "metadata": {},
   "outputs": [],
   "source": [
    "# This script imports a module named `math_operations` from a package named `modules`\n",
    "from modules import math_operations\n",
    "\n",
    "# Applying the functions from the imported module\n",
    "\n",
    "math = math_operations\n",
    "\n",
    "\n",
    "math.add(5, 3)\n",
    "\n",
    "math.subtract(10, 4)\n",
    "\n",
    "math.multiply(2, 6)\n",
    "\n",
    "math.divide(8, 2)"
   ]
  },
  {
   "cell_type": "markdown",
   "id": "88ba539f",
   "metadata": {},
   "source": [
    "### 2. Importing \"file_reader\" and \"file_writer\" modules from file_operations package"
   ]
  },
  {
   "cell_type": "code",
   "execution_count": null,
   "id": "2affc91b",
   "metadata": {},
   "outputs": [],
   "source": [
    "from file_operations import file_reader, file_writer\n",
    "# Using functions from the file_operations module\n",
    "\n",
    "\n",
    "\n",
    "file = \"D:\\Data Analytics_BI analyst\\SQL training\\python-homeworks\\lesson-8\\homework\\ll.txt\"\n",
    "file_reader.read_file(file)"
   ]
  }
 ],
 "metadata": {
  "kernelspec": {
   "display_name": "Python 3",
   "language": "python",
   "name": "python3"
  },
  "language_info": {
   "codemirror_mode": {
    "name": "ipython",
    "version": 3
   },
   "file_extension": ".py",
   "mimetype": "text/x-python",
   "name": "python",
   "nbconvert_exporter": "python",
   "pygments_lexer": "ipython3",
   "version": "3.13.1"
  }
 },
 "nbformat": 4,
 "nbformat_minor": 5
}
