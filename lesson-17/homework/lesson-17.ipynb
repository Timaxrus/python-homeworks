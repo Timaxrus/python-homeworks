{
 "cells": [
  {
   "cell_type": "markdown",
   "id": "63d3798b",
   "metadata": {},
   "source": [
    "#### 1."
   ]
  },
  {
   "cell_type": "code",
   "execution_count": null,
   "id": "442bc592",
   "metadata": {},
   "outputs": [],
   "source": [
    "import pandas as pd\n",
    "import numpy as np\n",
    "\n",
    "# Given python dictionary\n",
    "data = {'Firstun Name': ['Alice', 'Bob', 'Charlie', 'David'], 'Age': [25, 30, 35, 40], 'City': ['New York', 'San Francisco', 'Los Angeles', 'Chicago']} \n",
    "\n",
    "# Converting the dictionary to pandas dataframe\n",
    "df = pd.DataFrame(data)\n",
    "\n",
    "# 1 - step: Changing the columns \"Firstun Name\", \"Age\" to \"first name\" and \"age\" respectively. Changes made inplace\n",
    "df.rename(\n",
    "    columns = {\n",
    "        \"Firstun Name\": \"first name\",\n",
    "        \"Age\": \"age\"\n",
    "    },\n",
    "    inplace=True\n",
    ")\n",
    "\n",
    "print(\"# 1. Some col names changed: \\n\\n\", df)\n",
    "\n",
    "# 2. Print the first 3 rows of the DataFrame\n",
    "\n",
    "print(\"# 2. First 3 rows:\\n\\n\", df.head(3))\n",
    "\n",
    "# 3. Find the mean age of the individuals\n",
    "\n",
    "mean_age = df[\"age\"].mean()\n",
    "\n",
    "print(f\"\\n# 3. The mean age is: \\n\\n {mean_age}\")\n",
    "\n",
    "\n",
    "# 4. Select and print only the 'Name' and 'City' columns\n",
    "\n",
    "# Assigning 'fist name' and 'city' columns to selected_columns variable\n",
    "selected_columns = df[['first name', 'City']]\n",
    "\n",
    "print(\"\\n# 4. Select and print 'Name' and 'city' cols: \\n\\n\", selected_columns)\n",
    "\n",
    "# 5. Add a new column 'Salary' with random salary values\n",
    "\n",
    "df[\"salary\"] = np.random.randint(2000, 8000, size=len(df))\n",
    "\n",
    "print(\"\\n# 5. New look of the DF after adding 'salary' col:\\n\\n\", df)\n",
    "\n",
    "# 6. Display summary statistics of the DataFrame\n",
    "\n",
    "statistics = df.describe()\n",
    "\n",
    "print(\"\\n# 6. Summary statistics of the DF:\\n\\n\", statistics)\n",
    "\n"
   ]
  },
  {
   "cell_type": "markdown",
   "id": "134ea17f",
   "metadata": {},
   "source": [
    "#### 2."
   ]
  },
  {
   "cell_type": "code",
   "execution_count": null,
   "id": "ff140ac5",
   "metadata": {},
   "outputs": [],
   "source": [
    "import pandas as pd\n",
    "\n",
    "\n",
    "# 1. Create a DataFrame named sales_and_expenses with columns 'Month', 'Sales', and 'Expenses', representing monthly sales and expenses data. Use below table.\n",
    "\n",
    "data = {'Month': ['Jan', 'Feb', 'Mar', 'Apr'], 'Sales': [5000, 6000, 7500, 8000], 'Expenses': [3000, 3500, 4000, 4500]}\n",
    "\n",
    "sales_and_expenses = pd.DataFrame(data)\n",
    "\n",
    "print(\"# 1. Newly created dataframe:\\n\\n\", sales_and_expenses)\n",
    "\n",
    "# 2. Calculate and display the maximum sales and expenses.\n",
    "\n",
    "max_sales_expenses = sales_and_expenses.max()\n",
    "\n",
    "print(\"\\n# 2. Maximum Sales and Expenses:\\n\\n\", max_sales_expenses)\n",
    "\n",
    "# 3. Calculate and display the minimum sales and expenses.\n",
    "\n",
    "min_sales_expenses = sales_and_expenses.min()\n",
    "\n",
    "print(\"\\n# 3. Minimum Sales and Expenses:\\n\\n\", min_sales_expenses)\n",
    "\n",
    "# 4. Calculate and display the average sales and expenses.\n",
    "\n",
    "avg_sales_expenses = sales_and_expenses[['Sales', 'Expenses']].mean()\n",
    "\n",
    "print(\"\\n# 4. Average Sales and Expenses: \\n\\n\", avg_sales_expenses)\n"
   ]
  },
  {
   "cell_type": "markdown",
   "id": "02745d46",
   "metadata": {},
   "source": [
    "#### 3. "
   ]
  },
  {
   "cell_type": "code",
   "execution_count": null,
   "id": "86f5f6de",
   "metadata": {},
   "outputs": [],
   "source": [
    "import pandas as pd\n",
    "\n",
    "\n",
    "# 1. Create a DataFrame named expenses with columns 'Category', 'January', 'February', 'March', and 'April', representing monthly expenses for different categories. Use below table.\n",
    "\n",
    "data = {\n",
    "    'Category': ['Rent', 'Utilities', 'Groceries', 'Entertainment'],\n",
    "    'January': [1200, 200, 300, 150],\n",
    "    'February': [1300, 220, 320, 160],\n",
    "    'March': [1400, 240, 330, 170],\n",
    "    'April': [1500, 250, 350, 180]\n",
    "}\n",
    "\n",
    "expenses = pd.DataFrame(data)\n",
    "\n",
    "# 2. Calculate and display the maximum expense for each category.\n",
    "\n",
    "max_for_each_cat = expenses.set_index('Category').max(axis=1)\n",
    "\n",
    "print(\"# 2. The maximum values for each category:\\n\\n\", max_for_each_cat)\n",
    "\n",
    "# 3. Calculate and display the minimum expense for each category.\n",
    "\n",
    "min_for_each_cat = expenses.set_index('Category').min(axis=1)\n",
    "\n",
    "print(\"\\n# 3. The minimum values for each category:\\n\\n\", min_for_each_cat)\n",
    "\n",
    "# 4. Calculate and display the average expense for each category.\n",
    "\n",
    "avg_for_each_cat = expenses.set_index('Category').mean(axis=1)\n",
    "\n",
    "print(\"\\n# 4. The average values for each category:\\n\\n\", avg_for_each_cat)\n"
   ]
  }
 ],
 "metadata": {
  "kernelspec": {
   "display_name": "Python 3",
   "language": "python",
   "name": "python3"
  },
  "language_info": {
   "codemirror_mode": {
    "name": "ipython",
    "version": 3
   },
   "file_extension": ".py",
   "mimetype": "text/x-python",
   "name": "python",
   "nbconvert_exporter": "python",
   "pygments_lexer": "ipython3",
   "version": "3.13.1"
  }
 },
 "nbformat": 4,
 "nbformat_minor": 5
}
