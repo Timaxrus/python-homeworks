{
  "metadata": {
    "kernelspec": {
      "name": "python",
      "display_name": "Python (Pyodide)",
      "language": "python"
    },
    "language_info": {
      "codemirror_mode": {
        "name": "python",
        "version": 3
      },
      "file_extension": ".py",
      "mimetype": "text/x-python",
      "name": "python",
      "nbconvert_exporter": "python",
      "pygments_lexer": "ipython3",
      "version": "3.8"
    }
  },
  "nbformat_minor": 5,
  "nbformat": 4,
  "cells": [
    {
      "id": "211a6fb0",
      "cell_type": "markdown",
      "source": "### 1.",
      "metadata": {}
    },
    {
      "id": "891928e5",
      "cell_type": "code",
      "source": "def is_leap_year(year):\n    # This function checks if a given year is a leap year.\n\n    # isinstance checks if the input is an integer\n    # If the input is not an integer, raise a ValueError\n    if not isinstance(year, int):\n        raise ValueError(\"Input must be an integer representing a year.\")\n    \n    # Check if the year is zero\n    # If the year is zero or negative, raise a ValueError\n    if year == 0 or year < 0:\n        raise ValueError(\"Year cannot be zero or negative.\")\n    \n    # Main logic to check if the year is a leap year \n    # A year is a leap year if it is divisible by 4\n    # but not divisible by 100, unless it is also divisible by 400\n    if year % 4 == 0 and (year % 100 != 0 or year % 400 == 0):\n        return True\n    return False\n   \n\nprint(is_leap_year(1990))",
      "metadata": {},
      "outputs": [
        {
          "name": "stdout",
          "output_type": "stream",
          "text": "False\n"
        }
      ],
      "execution_count": 56
    },
    {
      "id": "27a6384d",
      "cell_type": "markdown",
      "source": "### 2.",
      "metadata": {}
    },
    {
      "id": "c8dd621d",
      "cell_type": "code",
      "source": "n = 3\n\nif n % 2 != 0:                                # Checks if the number is odd\n    print(\"Weird\")                            # If the number is odd then print \"Weird\"\nelif n % 2 == 0 and n in range(2, 6):         # If the number is even and between 2 and 5\n    print(\"Not Weird\")                        # Then print \"Not Weird\"\nelif n % 2 == 0 and n in range(6, 21):        # If the number is even and between 6 and 20\n    print(\"Weird\")                            # Then print \"Weird\"\nelif n % 2 == 0 and n > 20:                   # If the number is even and grater than 20\n    print(\"Not Weird\")                        # Then print \"Not Weird\"\nelse:\n    print(\"Not Weird\")                        # Else print \"Not Weird\"",
      "metadata": {
        "trusted": true
      },
      "outputs": [
        {
          "name": "stdout",
          "output_type": "stream",
          "text": "Weird\n"
        }
      ],
      "execution_count": 12
    },
    {
      "id": "224dd122-afac-4ae1-b9ec-23f842dde05c",
      "cell_type": "markdown",
      "source": "### 3.",
      "metadata": {}
    },
    {
      "id": "77ec884d-7992-4e6e-bb77-4a52ab7f614b",
      "cell_type": "code",
      "source": "a = 3\n\nb = 9\n\n# Solution 1 using if-else:\n\nif a <= b:\n    # Generate even numbers from a to b, using range function with step 2. 'a % 2' makes sure the the starting number is odd\n    # 'a % 2' gives 0 if a is even and 1 if a is odd, so if a is odd (a + (a % 2)) adds 1 and makes it even incrementing to 1.\n    print(list(range(a + (a % 2), b + 1, 2)))  # we will return the output as a list data type\nelse:\n    # Generate even numbers from b to a if b < a. At the end we are reversing the order to comply with a, b pattern\n    print(list(range(b + (b % 2), a + 1, 2))[::-1])\n    \n# Solution 2 without if-else:\n\n# we are sorting a and b using sorted function, it returns list datatype. Then we are unpacking the list assigning its values to start and end variables\n# We could directly use a and b in the lower part print section, but we would not be able to handle if a is greater or lower than b.\nstart, end = sorted((a, b))\n\n# We used the same logic as in Solution 1 using start % 2 adding to start to make sure the starting point is even.\nprint(list(range(start + (start % 2), end + 1, 2)))\n\n",
      "metadata": {
        "trusted": true
      },
      "outputs": [
        {
          "name": "stdout",
          "output_type": "stream",
          "text": "[4, 6, 8]\n[4, 6, 8]\n"
        }
      ],
      "execution_count": 29
    },
    {
      "id": "ac34f369-d3d8-4fcb-8095-a29856870e7e",
      "cell_type": "code",
      "source": "",
      "metadata": {
        "trusted": true
      },
      "outputs": [],
      "execution_count": null
    },
    {
      "id": "0b903a3f-71c0-4559-a374-99f4a1a7ebef",
      "cell_type": "code",
      "source": "",
      "metadata": {
        "trusted": true
      },
      "outputs": [],
      "execution_count": null
    }
  ]
}