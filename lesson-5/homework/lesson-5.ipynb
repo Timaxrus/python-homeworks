{
 "cells": [
  {
   "cell_type": "markdown",
   "id": "211a6fb0",
   "metadata": {},
   "source": [
    "### 1."
   ]
  },
  {
   "cell_type": "code",
   "execution_count": 56,
   "id": "891928e5",
   "metadata": {},
   "outputs": [
    {
     "name": "stdout",
     "output_type": "stream",
     "text": [
      "False\n"
     ]
    }
   ],
   "source": [
    "def is_leap_year(year):\n",
    "    # This function checks if a given year is a leap year.\n",
    "\n",
    "    # isinstance checks if the input is an integer\n",
    "    # If the input is not an integer, raise a ValueError\n",
    "    if not isinstance(year, int):\n",
    "        raise ValueError(\"Input must be an integer representing a year.\")\n",
    "    \n",
    "    # Check if the year is zero\n",
    "    # If the year is zero or negative, raise a ValueError\n",
    "    if year == 0 or year < 0:\n",
    "        raise ValueError(\"Year cannot be zero or negative.\")\n",
    "    \n",
    "    # Main logic to check if the year is a leap year \n",
    "    # A year is a leap year if it is divisible by 4\n",
    "    # but not divisible by 100, unless it is also divisible by 400\n",
    "    if year % 4 == 0 and (year % 100 != 0 or year % 400 == 0):\n",
    "        return True\n",
    "    return False\n",
    "   \n",
    "\n",
    "print(is_leap_year(1990))"
   ]
  },
  {
   "cell_type": "markdown",
   "id": "27a6384d",
   "metadata": {},
   "source": [
    "### 2."
   ]
  },
  {
   "cell_type": "code",
   "execution_count": 59,
   "id": "c8dd621d",
   "metadata": {},
   "outputs": [
    {
     "name": "stdout",
     "output_type": "stream",
     "text": [
      "Weird\n"
     ]
    }
   ],
   "source": [
    "n = 1\n",
    "\n",
    "if n % 2 != 0:\n",
    "    print(\"Weird\")\n",
    "elif n % 2 == 0 and n in range(2, 6):\n",
    "    print(\"Not Weird\")\n",
    "elif n % 2 == 0 and n in range(6, 21):\n",
    "    print(\"Weird\")\n",
    "elif n % 2 == 0 and n > 20:\n",
    "    print(\"Not Weird\")\n",
    "else:\n",
    "    print(\"Weird\")"
   ]
  }
 ],
 "metadata": {
  "kernelspec": {
   "display_name": "Python 3",
   "language": "python",
   "name": "python3"
  },
  "language_info": {
   "codemirror_mode": {
    "name": "ipython",
    "version": 3
   },
   "file_extension": ".py",
   "mimetype": "text/x-python",
   "name": "python",
   "nbconvert_exporter": "python",
   "pygments_lexer": "ipython3",
   "version": "3.13.1"
  }
 },
 "nbformat": 4,
 "nbformat_minor": 5
}
