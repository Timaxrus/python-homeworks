{
  "metadata": {
    "kernelspec": {
      "name": "python",
      "display_name": "Python (Pyodide)",
      "language": "python"
    },
    "language_info": {
      "codemirror_mode": {
        "name": "python",
        "version": 3
      },
      "file_extension": ".py",
      "mimetype": "text/x-python",
      "name": "python",
      "nbconvert_exporter": "python",
      "pygments_lexer": "ipython3",
      "version": "3.8"
    }
  },
  "nbformat_minor": 5,
  "nbformat": 4,
  "cells": [
    {
      "id": "0b12bb5b-9ee3-49f8-a461-da358eb5fd27",
      "cell_type": "code",
      "source": "txt = list(\"abcabcabcdeab_cdefabcdefg\")\n\nvowels = {\"a\", \"e\", \"i\", \"o\", \"u\"}\nind = 3\n\nwhile ind < len(txt):\n  if txt[0] == \"_\":  \n      ind = ''.join(txt).rindex(\"_\") + 4\n  else:\n      ind = ind\n\n  while ind < len(txt) and (txt[ind-1] in vowels or txt[ind] == \"_\"):\n  \tind += 1\n\n  if ind >= len(txt):\n  \tbreak\n      \n  txt.insert(ind, \"_\")\n\n\n\nprint(''.join(txt))\n    \n\n",
      "metadata": {
        "trusted": true
      },
      "outputs": [],
      "execution_count": null
    },
    {
      "id": "66588b81-dc9c-447b-88ea-1eb2230138ac",
      "cell_type": "code",
      "source": "",
      "metadata": {
        "trusted": true
      },
      "outputs": [],
      "execution_count": null
    },
    {
      "id": "450fa0eb-a18b-4891-9935-9d1a4a3315d4",
      "cell_type": "code",
      "source": "",
      "metadata": {
        "trusted": true
      },
      "outputs": [],
      "execution_count": null
    },
    {
      "id": "5f18dbb4-6d46-4a38-9ebf-101fb25003da",
      "cell_type": "code",
      "source": "",
      "metadata": {
        "trusted": true
      },
      "outputs": [],
      "execution_count": null
    }
  ]
}