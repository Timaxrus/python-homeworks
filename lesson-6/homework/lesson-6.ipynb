{
  "metadata": {
    "kernelspec": {
      "name": "python",
      "display_name": "Python (Pyodide)",
      "language": "python"
    },
    "language_info": {
      "codemirror_mode": {
        "name": "python",
        "version": 3
      },
      "file_extension": ".py",
      "mimetype": "text/x-python",
      "name": "python",
      "nbconvert_exporter": "python",
      "pygments_lexer": "ipython3",
      "version": "3.8"
    }
  },
  "nbformat_minor": 5,
  "nbformat": 4,
  "cells": [
    {
      "id": "60cda467-893a-4b1c-8017-832558ed54d4",
      "cell_type": "markdown",
      "source": "### 1.",
      "metadata": {}
    },
    {
      "id": "5be25e47-50d1-4668-af31-97163461c1df",
      "cell_type": "code",
      "source": "txt = list(\"assalom\")\n\nvowels = {\"a\", \"e\", \"i\", \"o\", \"u\"}\nind = 3\n\nwhile ind < len(txt):\n    \n    while ind < len(txt) and (txt[ind-1] in vowels or txt[ind] == \"_\"):\n      ind += 1\n\n    if ind >= len(txt):\n      break\n        \n    txt.insert(ind, \"_\")\n\n    ind += 4\n\nprint(''.join(txt))",
      "metadata": {
        "trusted": true
      },
      "outputs": [],
      "execution_count": null
    },
    {
      "id": "55319061-af5d-44a5-a85d-c15ab76f4ffe",
      "cell_type": "markdown",
      "source": "### 2.",
      "metadata": {}
    },
    {
      "id": "5f18dbb4-6d46-4a38-9ebf-101fb25003da",
      "cell_type": "code",
      "source": "# Receive an input from the user and convert it to int type\nn = int(input(\"Enter a positive number between 1 and 20:\"))\n\n# Validating the input with the constraint\nif 1 <= n <= 20:\n    # Loop through range from 0 to n and print the power of every integer up to the n input\n    for i in range(n): \n        print(i ** 2)\nelse:\n    # Else print an output message\n    print(\"Entered number is out of valid range, try again.\")\n    ",
      "metadata": {
        "trusted": true
      },
      "outputs": [],
      "execution_count": null
    },
    {
      "id": "0e98edc7-8eb6-46cd-9e31-d481783f1c4f",
      "cell_type": "markdown",
      "source": "### 3.",
      "metadata": {}
    },
    {
      "id": "15aa8cab-1f73-49f1-9430-700d5a1929df",
      "cell_type": "markdown",
      "source": "#### Exercise 1. ",
      "metadata": {
        "scrolled": true
      }
    },
    {
      "id": "7a10feb5-189b-45e1-aca9-ef93b5d8e04e",
      "cell_type": "code",
      "source": "# Exercise 1. Printing first 10 natural numbers using while loop\ni = 0\nwhile i < 10:\n    i += 1\n    print(i)",
      "metadata": {
        "trusted": true,
        "scrolled": true
      },
      "outputs": [],
      "execution_count": null
    },
    {
      "id": "a6989d22-1aa0-4380-94f8-63fcb744c027",
      "cell_type": "markdown",
      "source": "#### Exercise 2. ",
      "metadata": {
        "scrolled": true
      }
    },
    {
      "id": "7ec22e9a-e1a5-4576-a19c-431711c59c6e",
      "cell_type": "code",
      "source": "# Exercise 2. \n\n# Creating empty list as an initial point\nmy_list = []\n\n# Creating a variable i with value 0 so that it starts with 1 in the first loop\ni = 0\n\n# Looping through i reaches 5\nwhile i < 5:\n    # increament by 1 at every loop\n    i += 1\n    # append every i value to our list\n    my_list.append(str(i))\n    # printing every iteration converting the list into a string type with a space between every character\n    print(' '.join(my_list))",
      "metadata": {
        "trusted": true,
        "scrolled": true
      },
      "outputs": [],
      "execution_count": null
    },
    {
      "id": "f34f0f60-5e79-41e0-a4c1-b5e1bae4374c",
      "cell_type": "markdown",
      "source": "#### Exercise 3.",
      "metadata": {
        "scrolled": true
      }
    },
    {
      "id": "3bebb44c-341a-42f4-a923-bb17a979775b",
      "cell_type": "code",
      "source": "# Exercise 3.\n\n# Getting an input from the user\nn = int(input(\"Enter a positive number: \"))\n\n# Creating an empty list, we will append the values in the loop\nmy_list = []\n\n# we will append every i value up to n to the list by incrementing it by 1 at every iteration\nfor i in range(n):\n    i += 1\n    my_list.append(i)\n\n# Printing the sum of the list with an output message\nprint(\"The sum is:\", sum(my_list))",
      "metadata": {
        "scrolled": true,
        "trusted": true
      },
      "outputs": [],
      "execution_count": null
    },
    {
      "id": "eebbb00c-e200-4b5a-bbf3-a587aa8dd182",
      "cell_type": "markdown",
      "source": "#### Excercise 4.",
      "metadata": {
        "scrolled": true
      }
    },
    {
      "id": "391f89d0-9926-4ec7-98fd-b4f472eae72b",
      "cell_type": "code",
      "source": "# Excercise 4.\n\n# Variable n (given number)\nn = 2\n\n# Loop through from 1 to 10 and multiply every element by the given n and print the result\nfor i in range(1, 11):\n    i = i * n\n    print(i)",
      "metadata": {
        "trusted": true,
        "scrolled": true
      },
      "outputs": [],
      "execution_count": null
    },
    {
      "id": "a5c4f7a6-3dfb-4a59-bbec-41c08b206be4",
      "cell_type": "markdown",
      "source": "#### Exercise 5.",
      "metadata": {
        "scrolled": true
      }
    },
    {
      "id": "b95d321b-0feb-4243-afc5-191ae3551f46",
      "cell_type": "code",
      "source": "# Given a list variable\nnumbers = [12, 75, 150, 180, 145, 525, 50]\n\n# loop through the list\nfor i in numbers:\n\n    # If an element of a list matches the given list, print the element\n    if i in [75, 150, 145]:\n        print(i)\n    # Otherwise ignore\n    else:\n        continue",
      "metadata": {
        "trusted": true
      },
      "outputs": [],
      "execution_count": null
    },
    {
      "id": "8046bc37-a392-4ed8-aed5-c762380da716",
      "cell_type": "markdown",
      "source": "#### Exercise 6.",
      "metadata": {}
    },
    {
      "id": "77a5332f-f09b-475a-b4ef-e2ca837c78a7",
      "cell_type": "code",
      "source": "# Variable with a given number\nnumber = 75869\n\n# Creating a new variable and converting it to a list type\nstr_list = list(str(number))\n\n# Printing the length of the list\nprint(len(str_list))\n    ",
      "metadata": {
        "trusted": true
      },
      "outputs": [],
      "execution_count": null
    },
    {
      "id": "0df0a236-b237-4c49-b302-a617c47f79cd",
      "cell_type": "markdown",
      "source": "#### Exercise 7.",
      "metadata": {}
    },
    {
      "id": "2e31b905-43a5-4f56-8c74-30c1c7cd75a3",
      "cell_type": "code",
      "source": "\n# Creating a new_list variable containing numbers as string elements\nnew_list = [\"1\", \"2\", \"3\", \"4\", \"5\", \"6\"]\n\n# Reversing the list \nnew_list.reverse()\n\n# Looping the list removing the first element until length of it is equal to 1\nwhile len(new_list) > 1:\n    new_list.pop(0)\n\n    # Pring every loop converting the list to a string type\n    print(' '.join(new_list))",
      "metadata": {
        "trusted": true
      },
      "outputs": [],
      "execution_count": null
    },
    {
      "id": "e740c16e-672a-4d24-995f-2b56cf79714c",
      "cell_type": "markdown",
      "source": "#### Exercise 8.",
      "metadata": {}
    },
    {
      "id": "d073bc71-e146-4b79-8593-cc0d3614f2f7",
      "cell_type": "code",
      "source": "list1 = [10, 20, 30, 40, 50]\n\n# For every element in the reversed list print every element\nfor i in list1[::-1]:\n    print(i)",
      "metadata": {
        "trusted": true
      },
      "outputs": [],
      "execution_count": null
    },
    {
      "id": "23711c8f-0011-4d16-866a-53b8a2d850cb",
      "cell_type": "markdown",
      "source": "#### Exercise 9.",
      "metadata": {}
    },
    {
      "id": "03f6f00b-b008-48ba-9620-45d4fec0ba78",
      "cell_type": "code",
      "source": "\n# Loop from -10 till -1 including and print every element in between\nfor i in range(-10, 0):\n    print(i)",
      "metadata": {
        "trusted": true
      },
      "outputs": [],
      "execution_count": null
    },
    {
      "id": "1fff7207-c763-4884-99c0-af9e551e1512",
      "cell_type": "markdown",
      "source": "#### Exercise 10.",
      "metadata": {}
    },
    {
      "id": "4a344653-c8f8-4fd2-a7c8-da775afa82e5",
      "cell_type": "code",
      "source": "# Loop through from 0 to 4 and print every element inbetween\nfor i in range(0,5):\n    print(i)\n    # If the element reaches the maximum level of the range:\n    if i == max(range(0,5)):\n        # Print the output message \"Done!\"\n        print(\"Done!\")",
      "metadata": {
        "trusted": true
      },
      "outputs": [],
      "execution_count": null
    },
    {
      "id": "34226e19-7b80-47f3-a81e-ffde475e877d",
      "cell_type": "markdown",
      "source": "#### Exercise 11.",
      "metadata": {}
    },
    {
      "id": "16775c8b-d8a9-4fd8-9784-76982c65089e",
      "cell_type": "code",
      "source": "\n# Loop through the range from 25 to 50\nfor i in range(25, 51):\n    # Any integer higher than 1 set the prime variable to True\n    if i > 1:\n        prime = True\n        # Inner loop to get the divisors from 2 up to the square root of the canididate value\n        for n in range(2, int(i**0.5)+1):\n            # If a candidate is divisable by numbers from 2 to sqr of the value:\n            if i % n == 0:\n                # Set the prime variable to False and terminate the loop and move to the next candidate value\n                prime = False\n                break\n        # If not divisible, then then the value of the prime is not changed and print the prime numbers\n        if prime:\n            print(i)\n    \n        ",
      "metadata": {
        "trusted": true
      },
      "outputs": [],
      "execution_count": null
    },
    {
      "id": "3bdc62e1-de65-4453-9e86-d8719c9d73bc",
      "cell_type": "markdown",
      "source": "#### Exercise 12.",
      "metadata": {}
    },
    {
      "id": "1f4c8b5d-3a33-4306-b944-0bd3ed033af7",
      "cell_type": "code",
      "source": "# Initialize the first two terms of the Fibonacci series\na, b = 0, 1\n\n# Number of terms to display\nn_terms = 10\n\n# Loop to generate and display the Fibonacci series\nfor i in range(n_terms):\n    print(a, end=\" \")  # Print the current term\n    a, b = b, a + b    # Update to the next two terms",
      "metadata": {
        "trusted": true
      },
      "outputs": [],
      "execution_count": null
    },
    {
      "id": "987833ac-a9c9-4bc6-afde-4b5327dd752a",
      "cell_type": "markdown",
      "source": "#### Exercise 13.",
      "metadata": {}
    },
    {
      "id": "813c2358-8a5e-497f-8d0a-bcf82cc943cf",
      "cell_type": "code",
      "source": "num = 5\n\nresult = 1\nfor i in range(1, num + 1):\n    result *= i\n\nprint(result)",
      "metadata": {
        "trusted": true
      },
      "outputs": [],
      "execution_count": null
    },
    {
      "id": "d9742ac0-94de-4e71-8078-a2d1253b27fd",
      "cell_type": "markdown",
      "source": "### 4.",
      "metadata": {}
    },
    {
      "id": "94e09fd1-2546-491c-9dac-a729aa289b8b",
      "cell_type": "code",
      "source": "list1 = [1, 1, 2, 3, 4, 2]\nlist2 = [1, 3, 4, 5]\n\n# Using a list comprehension for each list checking if an element in one list not in the other list then concatenating them together\nprint([x for x in list1 if x not in list2] + [x for x in list2 if x not in list1])\n\n",
      "metadata": {
        "trusted": true
      },
      "outputs": [],
      "execution_count": null
    },
    {
      "id": "8544c668-dd09-40d0-90b6-62471244e5d1",
      "cell_type": "code",
      "source": "",
      "metadata": {
        "trusted": true
      },
      "outputs": [],
      "execution_count": null
    }
  ]
}