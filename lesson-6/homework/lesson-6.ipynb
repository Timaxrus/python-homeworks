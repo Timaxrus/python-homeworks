{
  "cells": [
    {
      "cell_type": "code",
      "execution_count": 111,
      "id": "0b12bb5b-9ee3-49f8-a461-da358eb5fd27",
      "metadata": {
        "trusted": true
      },
      "outputs": [
        {
          "name": "stdout",
          "output_type": "stream",
          "text": [
            "ass_alom\n"
          ]
        }
      ],
      "source": [
        "txt = list(\"assalom\")\n",
        "\n",
        "vowels = {\"a\", \"e\", \"i\", \"o\", \"u\"}\n",
        "ind = 3\n",
        "\n",
        "while ind < len(txt):\n",
        "    \n",
        "    while ind < len(txt) and (txt[ind-1] in vowels or txt[ind] == \"_\"):\n",
        "      ind += 1\n",
        "\n",
        "    if ind >= len(txt):\n",
        "      break\n",
        "        \n",
        "    txt.insert(ind, \"_\")\n",
        "\n",
        "    ind += 4\n",
        "\n",
        "print(''.join(txt))\n",
        "\n",
        "\n",
        "\n"
      ]
    },
    {
      "cell_type": "code",
      "execution_count": 83,
      "id": "66588b81-dc9c-447b-88ea-1eb2230138ac",
      "metadata": {
        "trusted": true
      },
      "outputs": [
        {
          "name": "stdout",
          "output_type": "stream",
          "text": [
            "['a', 'b', 'c', '_', 'a', 'b', 'c', 'd', 'e', 'a', 'b', 'c', 'd', 'e', 'f', 'a', 'b', 'c', 'd', 'e', 'f'] <class 'list'>\n"
          ]
        },
        {
          "ename": "KeyboardInterrupt",
          "evalue": "",
          "output_type": "error",
          "traceback": [
            "\u001b[31m---------------------------------------------------------------------------\u001b[39m",
            "\u001b[31mKeyboardInterrupt\u001b[39m                         Traceback (most recent call last)",
            "\u001b[36mCell\u001b[39m\u001b[36m \u001b[39m\u001b[32mIn[83]\u001b[39m\u001b[32m, line 18\u001b[39m\n\u001b[32m     16\u001b[39m     \u001b[38;5;28;01mwhile\u001b[39;00m \u001b[38;5;28mlen\u001b[39m(j) >= \u001b[32m3\u001b[39m \u001b[38;5;129;01mand\u001b[39;00m ind2 < \u001b[38;5;28mlen\u001b[39m(j) \u001b[38;5;129;01mand\u001b[39;00m j[ind2-\u001b[32m1\u001b[39m] \u001b[38;5;129;01mnot\u001b[39;00m \u001b[38;5;129;01min\u001b[39;00m vowels:\n\u001b[32m     17\u001b[39m         \u001b[38;5;28mlist\u001b[39m(j).insert(ind2, \u001b[33m\"\u001b[39m\u001b[33m_\u001b[39m\u001b[33m\"\u001b[39m)\n\u001b[32m---> \u001b[39m\u001b[32m18\u001b[39m         ind2 = \u001b[33;43m'\u001b[39;49m\u001b[33;43m'\u001b[39;49m\u001b[43m.\u001b[49m\u001b[43mjoin\u001b[49m\u001b[43m(\u001b[49m\u001b[43mi\u001b[49m\u001b[43m)\u001b[49m.rindex(\u001b[33m\"\u001b[39m\u001b[33m_\u001b[39m\u001b[33m\"\u001b[39m) + \u001b[32m4\u001b[39m\n\u001b[32m     19\u001b[39m \u001b[38;5;28;01melse\u001b[39;00m:\n\u001b[32m     20\u001b[39m   ind = \u001b[33m'\u001b[39m\u001b[33m'\u001b[39m.join(txt).rindex(\u001b[33m\"\u001b[39m\u001b[33m_\u001b[39m\u001b[33m\"\u001b[39m) + \u001b[32m4\u001b[39m\n",
            "\u001b[31mKeyboardInterrupt\u001b[39m: "
          ]
        }
      ],
      "source": [
        "\n",
        "ind1 = 3\n",
        "  \n",
        "for i in ''.join(txt).split(\"_\"):\n",
        "  \n",
        "  while len(i) >= 3 and ind1 < len(i) and i[ind1-1] in vowels:\n",
        "    ind1 += 1\n",
        "  while len(i) >= 3 and ind1 < len(i) and i[ind1-1] not in vowels:\n",
        "    i = list(i)\n",
        "    i.insert(ind1, \"_\")\n",
        "    ind1 = ''.join(i).rindex(\"_\") + 4\n",
        "    print(i, type(i))\n",
        "    ind2 = 3\n",
        "    for j in ''.join(i).split(\"_\"):\n",
        "      while len(j) >= 3 and ind2 < len(j) and j[ind2-1] in vowels:\n",
        "          ind2 += 1\n",
        "      while len(j) >= 3 and ind2 < len(j) and j[ind2-1] not in vowels:\n",
        "          list(j).insert(ind2, \"_\")\n",
        "          ind2 = ''.join(i).rindex(\"_\") + 4\n",
        "  else:\n",
        "    ind = ''.join(txt).rindex(\"_\") + 4\n",
        "print(''.join(txt))\n",
        "print(''.join(i))\n",
        "  \n",
        "    \n",
        "\n",
        "\n"
      ]
    },
    {
      "cell_type": "code",
      "execution_count": null,
      "id": "450fa0eb-a18b-4891-9935-9d1a4a3315d4",
      "metadata": {
        "trusted": true
      },
      "outputs": [],
      "source": []
    },
    {
      "cell_type": "code",
      "execution_count": null,
      "id": "5f18dbb4-6d46-4a38-9ebf-101fb25003da",
      "metadata": {
        "trusted": true
      },
      "outputs": [],
      "source": []
    }
  ],
  "metadata": {
    "kernelspec": {
      "display_name": "Python 3",
      "language": "python",
      "name": "python3"
    },
    "language_info": {
      "codemirror_mode": {
        "name": "ipython",
        "version": 3
      },
      "file_extension": ".py",
      "mimetype": "text/x-python",
      "name": "python",
      "nbconvert_exporter": "python",
      "pygments_lexer": "ipython3",
      "version": "3.13.1"
    }
  },
  "nbformat": 4,
  "nbformat_minor": 5
}
