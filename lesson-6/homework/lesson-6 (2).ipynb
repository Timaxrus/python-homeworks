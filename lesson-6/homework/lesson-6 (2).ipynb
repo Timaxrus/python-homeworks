{
  "metadata": {
    "kernelspec": {
      "name": "python",
      "display_name": "Python (Pyodide)",
      "language": "python"
    },
    "language_info": {
      "codemirror_mode": {
        "name": "python",
        "version": 3
      },
      "file_extension": ".py",
      "mimetype": "text/x-python",
      "name": "python",
      "nbconvert_exporter": "python",
      "pygments_lexer": "ipython3",
      "version": "3.8"
    }
  },
  "nbformat_minor": 5,
  "nbformat": 4,
  "cells": [
    {
      "id": "60cda467-893a-4b1c-8017-832558ed54d4",
      "cell_type": "markdown",
      "source": "### 1.",
      "metadata": {}
    },
    {
      "id": "5be25e47-50d1-4668-af31-97163461c1df",
      "cell_type": "code",
      "source": "txt = list(\"assalom\")\n\nvowels = {\"a\", \"e\", \"i\", \"o\", \"u\"}\nind = 3\n\nwhile ind < len(txt):\n    \n    while ind < len(txt) and (txt[ind-1] in vowels or txt[ind] == \"_\"):\n      ind += 1\n\n    if ind >= len(txt):\n      break\n        \n    txt.insert(ind, \"_\")\n\n    ind += 4\n\nprint(''.join(txt))",
      "metadata": {
        "trusted": true
      },
      "outputs": [],
      "execution_count": null
    },
    {
      "id": "55319061-af5d-44a5-a85d-c15ab76f4ffe",
      "cell_type": "markdown",
      "source": "### 2.",
      "metadata": {}
    },
    {
      "id": "5f18dbb4-6d46-4a38-9ebf-101fb25003da",
      "cell_type": "code",
      "source": "# Receive an input from the user and convert it to int type\nn = int(input(\"Enter a positive number between 1 and 20:\"))\n\n# Validating the input with the constraint\nif 1 <= n <= 20:\n    # Loop through range from 0 to n and print the power of every integer up to the n input\n    for i in range(n): \n        print(i ** 2)\nelse:\n    # Else print an output message\n    print(\"Entered number is out of valid range, try again.\")\n    ",
      "metadata": {
        "trusted": true
      },
      "outputs": [],
      "execution_count": null
    },
    {
      "id": "0e98edc7-8eb6-46cd-9e31-d481783f1c4f",
      "cell_type": "markdown",
      "source": "### 3.",
      "metadata": {}
    },
    {
      "id": "15aa8cab-1f73-49f1-9430-700d5a1929df",
      "cell_type": "markdown",
      "source": "#### Exercise 1. ",
      "metadata": {
        "scrolled": true
      }
    },
    {
      "id": "7a10feb5-189b-45e1-aca9-ef93b5d8e04e",
      "cell_type": "code",
      "source": "# Exercise 1. Printing first 10 natural numbers using while loop\ni = 0\nwhile i < 10:\n    i += 1\n    print(i)",
      "metadata": {
        "trusted": true,
        "scrolled": true
      },
      "outputs": [],
      "execution_count": null
    },
    {
      "id": "a6989d22-1aa0-4380-94f8-63fcb744c027",
      "cell_type": "markdown",
      "source": "#### Exercise 2. ",
      "metadata": {
        "scrolled": true
      }
    },
    {
      "id": "7ec22e9a-e1a5-4576-a19c-431711c59c6e",
      "cell_type": "code",
      "source": "# Exercise 2. \n\n# Creating empty list as an initial point\nmy_list = []\n\n# Creating a variable i with value 0 so that it starts with 1 in the first loop\ni = 0\n\n# Looping through i reaches 5\nwhile i < 5:\n    # increament by 1 at every loop\n    i += 1\n    # append every i value to our list\n    my_list.append(str(i))\n    # printing every iteration converting the list into a string type with a space between every character\n    print(' '.join(my_list))",
      "metadata": {
        "trusted": true,
        "scrolled": true
      },
      "outputs": [],
      "execution_count": null
    },
    {
      "id": "f34f0f60-5e79-41e0-a4c1-b5e1bae4374c",
      "cell_type": "markdown",
      "source": "#### Exercise 3.",
      "metadata": {
        "scrolled": true
      }
    },
    {
      "id": "3bebb44c-341a-42f4-a923-bb17a979775b",
      "cell_type": "code",
      "source": "# Exercise 3.\n\n# Getting an input from the user\nn = int(input(\"Enter a positive number: \"))\n\n# Creating an empty list, we will append the values in the loop\nmy_list = []\n\n# we will append every i value up to n to the list by incrementing it by 1 at every iteration\nfor i in range(n):\n    i += 1\n    my_list.append(i)\n\n# Printing the sum of the list with an output message\nprint(\"The sum is:\", sum(my_list))",
      "metadata": {
        "scrolled": true,
        "trusted": true
      },
      "outputs": [],
      "execution_count": null
    },
    {
      "id": "eebbb00c-e200-4b5a-bbf3-a587aa8dd182",
      "cell_type": "markdown",
      "source": "#### Excercise 4.",
      "metadata": {
        "scrolled": true
      }
    },
    {
      "id": "391f89d0-9926-4ec7-98fd-b4f472eae72b",
      "cell_type": "code",
      "source": "# Excercise 4.\n\n# Variable n (given number)\nn = 2\n\n# Loop through from 1 to 10 and multiply every element by the given n and print the result\nfor i in range(1, 11):\n    i = i * n\n    print(i)",
      "metadata": {
        "trusted": true,
        "scrolled": true
      },
      "outputs": [],
      "execution_count": null
    },
    {
      "id": "a5c4f7a6-3dfb-4a59-bbec-41c08b206be4",
      "cell_type": "markdown",
      "source": "#### Exercise 5.",
      "metadata": {
        "scrolled": true
      }
    },
    {
      "id": "b95d321b-0feb-4243-afc5-191ae3551f46",
      "cell_type": "code",
      "source": "# Given a list variable\nnumbers = [12, 75, 150, 180, 145, 525, 50]\n\n# loop through the list\nfor i in numbers:\n\n    # If an element of a list matches the given list, print the element\n    if i in [75, 150, 145]:\n        print(i)\n    # Otherwise ignore\n    else:\n        continue",
      "metadata": {
        "trusted": true
      },
      "outputs": [
        {
          "name": "stdout",
          "output_type": "stream",
          "text": "75\n150\n145\n"
        }
      ],
      "execution_count": 2
    },
    {
      "id": "8046bc37-a392-4ed8-aed5-c762380da716",
      "cell_type": "markdown",
      "source": "#### Exercise 6.",
      "metadata": {}
    },
    {
      "id": "77a5332f-f09b-475a-b4ef-e2ca837c78a7",
      "cell_type": "code",
      "source": "# Variable with a given number\nnumber = 75869\n\n# Creating a new variable and converting it to a list type\nstr_list = list(str(number))\n\n# Printing the length of the list\nprint(len(str_list))\n    ",
      "metadata": {
        "trusted": true
      },
      "outputs": [
        {
          "name": "stdout",
          "output_type": "stream",
          "text": "5\n"
        }
      ],
      "execution_count": 4
    },
    {
      "id": "0df0a236-b237-4c49-b302-a617c47f79cd",
      "cell_type": "markdown",
      "source": "#### Exercise 7.",
      "metadata": {}
    },
    {
      "id": "2e31b905-43a5-4f56-8c74-30c1c7cd75a3",
      "cell_type": "code",
      "source": "\n\nnew_list = [1, 2, 3, 4, 5]\n\nfor i in new_list:\n    new_list = reversed(new_list)\n    print(new_list)",
      "metadata": {
        "trusted": true
      },
      "outputs": [
        {
          "name": "stdout",
          "output_type": "stream",
          "text": "<list_reverseiterator object at 0x278c850>\n"
        },
        {
          "ename": "<class 'TypeError'>",
          "evalue": "'list_reverseiterator' object is not reversible",
          "traceback": [
            "\u001b[0;31m---------------------------------------------------------------------------\u001b[0m",
            "\u001b[0;31mTypeError\u001b[0m                                 Traceback (most recent call last)",
            "Cell \u001b[0;32mIn[11], line 4\u001b[0m\n\u001b[1;32m      1\u001b[0m new_list \u001b[38;5;241m=\u001b[39m [\u001b[38;5;241m1\u001b[39m, \u001b[38;5;241m2\u001b[39m, \u001b[38;5;241m3\u001b[39m, \u001b[38;5;241m4\u001b[39m, \u001b[38;5;241m5\u001b[39m]\n\u001b[1;32m      3\u001b[0m \u001b[38;5;28;01mfor\u001b[39;00m i \u001b[38;5;129;01min\u001b[39;00m new_list:\n\u001b[0;32m----> 4\u001b[0m     new_list \u001b[38;5;241m=\u001b[39m \u001b[38;5;28;43mreversed\u001b[39;49m\u001b[43m(\u001b[49m\u001b[43mnew_list\u001b[49m\u001b[43m)\u001b[49m\n\u001b[1;32m      5\u001b[0m     \u001b[38;5;28mprint\u001b[39m(new_list)\n",
            "\u001b[0;31mTypeError\u001b[0m: 'list_reverseiterator' object is not reversible"
          ],
          "output_type": "error"
        }
      ],
      "execution_count": 11
    },
    {
      "id": "876ccdcd-b463-4766-969e-091c213926d0",
      "cell_type": "code",
      "source": "",
      "metadata": {
        "trusted": true
      },
      "outputs": [],
      "execution_count": null
    }
  ]
}