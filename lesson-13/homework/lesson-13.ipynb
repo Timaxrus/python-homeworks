{
 "cells": [
  {
   "cell_type": "markdown",
   "id": "c418c60d",
   "metadata": {},
   "source": [
    "### 1."
   ]
  },
  {
   "cell_type": "code",
   "execution_count": null,
   "id": "5b6f30e1",
   "metadata": {},
   "outputs": [
    {
     "data": {
      "text/plain": [
       "'You are 25 years, 3 months and 21 days.'"
      ]
     },
     "execution_count": 24,
     "metadata": {},
     "output_type": "execute_result"
    }
   ],
   "source": [
    "from datetime import date, datetime\n",
    "from calendar import monthrange\n",
    "\n",
    "def age_calculator(bdate_str):\n",
    "    try:\n",
    "        bdate_str = bdate_str.strip()\n",
    "        bdate = datetime.strptime(bdate_str, '%Y-%m-%d').date()\n",
    "        # Validate date (catches February 30, etc.)\n",
    "        datetime(bdate.year, bdate.month, bdate.day)\n",
    "        \n",
    "        if bdate > date.today():\n",
    "            return \"Error: Birthdate cannot be in the future.\"\n",
    "\n",
    "    except ValueError:\n",
    "        return \"Error: Use valid 'YYYY-MM-DD' format (e.g., 1990-02-28).\"\n",
    "\n",
    "    today = date.today()\n",
    "    years = today.year - bdate.year\n",
    "    months = today.month - bdate.month\n",
    "    days = today.day - bdate.day\n",
    "\n",
    "    if days < 0:\n",
    "        months -= 1\n",
    "        last_month = today.month - 1 if today.month > 1 else 12\n",
    "        last_year = today.year if today.month > 1 else today.year - 1\n",
    "        days_in_prev_month = monthrange(last_year, last_month)[1]\n",
    "        days += days_in_prev_month\n",
    "    \n",
    "    if months < 0:\n",
    "        years -= 1\n",
    "        months += 12\n",
    "\n",
    "    return f\"You are {years} years, {months} months, and {days} days old.\"\n",
    "    "
   ]
  },
  {
   "cell_type": "code",
   "execution_count": 1,
   "id": "aa7e5d51",
   "metadata": {},
   "outputs": [
    {
     "name": "stdout",
     "output_type": "stream",
     "text": [
      "19\n"
     ]
    }
   ],
   "source": [
    "from datetime import date\n",
    "\n",
    "print(date.today().day)"
   ]
  }
 ],
 "metadata": {
  "kernelspec": {
   "display_name": "Python 3",
   "language": "python",
   "name": "python3"
  },
  "language_info": {
   "codemirror_mode": {
    "name": "ipython",
    "version": 3
   },
   "file_extension": ".py",
   "mimetype": "text/x-python",
   "name": "python",
   "nbconvert_exporter": "python",
   "pygments_lexer": "ipython3",
   "version": "3.13.1"
  }
 },
 "nbformat": 4,
 "nbformat_minor": 5
}
