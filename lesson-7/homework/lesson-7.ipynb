{
 "cells": [
  {
   "cell_type": "markdown",
   "id": "1a94a573",
   "metadata": {},
   "source": [
    "### 1."
   ]
  },
  {
   "cell_type": "code",
   "execution_count": null,
   "id": "857578c9",
   "metadata": {},
   "outputs": [],
   "source": [
    "# Define a is_prime function\n",
    "def is_prime(n):\n",
    "    # Check if n is less than or equal to 1\n",
    "    # If so, return False\n",
    "    if n <= 1:\n",
    "        return False\n",
    "    # using a filter function with lambda to find divisors of n\n",
    "    divisors = list(filter(lambda x: n % x == 0, range(2, int(n**0.5) + 1)))\n",
    "    # If the list of divisors is empty, n is prime\n",
    "    # Otherwise, n is not prime\n",
    "    return len(divisors) == 0\n",
    "\n",
    "is_prime(9)"
   ]
  },
  {
   "cell_type": "markdown",
   "id": "22c0b676",
   "metadata": {},
   "source": [
    "### 2."
   ]
  },
  {
   "cell_type": "code",
   "execution_count": null,
   "id": "367e1b2e",
   "metadata": {},
   "outputs": [
    {
     "data": {
      "text/plain": [
       "10"
      ]
     },
     "execution_count": 55,
     "metadata": {},
     "output_type": "execute_result"
    }
   ],
   "source": [
    "# Define a function that calculates the sum of it's digits\n",
    "def digit_sum(k):\n",
    "    # Check if k is negative\n",
    "    # If so, raise a ValueError\n",
    "    if not isinstance(k, int) or k < 0:\n",
    "        raise ValueError(\"Input must be a non-negative integer.\")\n",
    "    # Convert k to a string and iterate over each character\n",
    "    # Convert each character back to an integer and sum them up using map function\n",
    "    return sum(map(lambda char: int(char), str(k)))\n",
    "\n",
    "digit_sum(28)\n"
   ]
  },
  {
   "cell_type": "markdown",
   "id": "a7f99866",
   "metadata": {},
   "source": [
    "### 3."
   ]
  },
  {
   "cell_type": "code",
   "execution_count": null,
   "id": "a7641988",
   "metadata": {},
   "outputs": [
    {
     "data": {
      "text/plain": [
       "([1,\n",
       "  4,\n",
       "  9,\n",
       "  16,\n",
       "  25,\n",
       "  36,\n",
       "  49,\n",
       "  64,\n",
       "  81,\n",
       "  100,\n",
       "  121,\n",
       "  144,\n",
       "  169,\n",
       "  196,\n",
       "  225,\n",
       "  256,\n",
       "  289,\n",
       "  324,\n",
       "  361],\n",
       " [2, 4, 8, 16])"
      ]
     },
     "execution_count": 93,
     "metadata": {},
     "output_type": "execute_result"
    }
   ],
   "source": [
    "# Define a function that return power of 2 until given number\n",
    "def power_of_2(n):\n",
    "    # initialize an empty list to store powers of 2\n",
    "    powers = list(map(lambda x: x**2, range(1, n)))\n",
    "    # Filter the list to include only powers of 2 that are less than n\n",
    "    return [2**x for x in range(1, n) if 2**x < n]\n",
    "    \n",
    "power_of_2(20)\n",
    "\n",
    "\n",
    "\n",
    "    "
   ]
  }
 ],
 "metadata": {
  "kernelspec": {
   "display_name": "Python 3",
   "language": "python",
   "name": "python3"
  },
  "language_info": {
   "codemirror_mode": {
    "name": "ipython",
    "version": 3
   },
   "file_extension": ".py",
   "mimetype": "text/x-python",
   "name": "python",
   "nbconvert_exporter": "python",
   "pygments_lexer": "ipython3",
   "version": "3.13.1"
  }
 },
 "nbformat": 4,
 "nbformat_minor": 5
}
