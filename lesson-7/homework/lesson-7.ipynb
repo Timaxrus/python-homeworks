{
 "cells": [
  {
   "cell_type": "markdown",
   "id": "1a94a573",
   "metadata": {},
   "source": [
    "### 1."
   ]
  },
  {
   "cell_type": "code",
   "execution_count": null,
   "id": "857578c9",
   "metadata": {},
   "outputs": [],
   "source": [
    "# Define a is_prime function\n",
    "def is_prime(n):\n",
    "    # Check if n is less than or equal to 1\n",
    "    # If so, return False\n",
    "    if n <= 1:\n",
    "        return False\n",
    "    # Loop through numbers from 2 to the square root of n\n",
    "    for i in range(2, int(n**0.5)+1):\n",
    "        # Check if n is divisible by i\n",
    "        if n % i == 0:\n",
    "            # If so, return False\n",
    "            return False\n",
    "    # If no divisors were found, return True\n",
    "    return True\n",
    "\n",
    "is_prime(15)"
   ]
  },
  {
   "cell_type": "markdown",
   "id": "22c0b676",
   "metadata": {},
   "source": [
    "### 2."
   ]
  },
  {
   "cell_type": "code",
   "execution_count": null,
   "id": "367e1b2e",
   "metadata": {},
   "outputs": [],
   "source": [
    "# Define a function that calculates the sum of it's digits\n",
    "def digit_sum(k):\n",
    "    # Check if k is negative\n",
    "    # If so, raise a ValueError\n",
    "    if not isinstance(k, int) or k < 0:\n",
    "        raise ValueError(\"Input must be a non-negative integer.\")\n",
    "    # Convert k to a string and iterate over each character\n",
    "    # Convert each character back to an integer and sum them up\n",
    "    return sum(int(char) for char in str(k))\n",
    "\n",
    "digit_sum(23)\n"
   ]
  },
  {
   "cell_type": "markdown",
   "id": "a7f99866",
   "metadata": {},
   "source": [
    "### 3."
   ]
  },
  {
   "cell_type": "code",
   "execution_count": null,
   "id": "a7641988",
   "metadata": {},
   "outputs": [],
   "source": [
    "# Define a function that return power of 2 until given number\n",
    "def power_of_2(n):\n",
    "    # initialize an empty list to store powers of 2\n",
    "    powers = []\n",
    "    # Loop through numbers from 1 to n\n",
    "    for i in range(1, n + 1):\n",
    "        # Calculate 2 raised to the power of i\n",
    "        power = 2**i\n",
    "        # Check if the power is greater than n\n",
    "        # If so, break the loop\n",
    "        if power > n:\n",
    "            break\n",
    "        # Append the power to the list\n",
    "        powers.append(power)\n",
    "    # Convert the list of powers to a string and join them with spaces\n",
    "    powers = ' '.join(str(i) for i in powers)\n",
    "    # Return the powers\n",
    "    return powers\n",
    "    \n",
    "power_of_2(10)\n",
    "\n",
    "\n",
    "\n",
    "    "
   ]
  }
 ],
 "metadata": {
  "kernelspec": {
   "display_name": "Python 3",
   "language": "python",
   "name": "python3"
  },
  "language_info": {
   "codemirror_mode": {
    "name": "ipython",
    "version": 3
   },
   "file_extension": ".py",
   "mimetype": "text/x-python",
   "name": "python",
   "nbconvert_exporter": "python",
   "pygments_lexer": "ipython3",
   "version": "3.13.1"
  }
 },
 "nbformat": 4,
 "nbformat_minor": 5
}
