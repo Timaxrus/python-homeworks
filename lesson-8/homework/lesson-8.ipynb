{
 "cells": [
  {
   "cell_type": "markdown",
   "id": "0de2904a",
   "metadata": {},
   "source": [
    "### 1."
   ]
  },
  {
   "cell_type": "code",
   "execution_count": null,
   "id": "c01d37a8",
   "metadata": {},
   "outputs": [],
   "source": [
    "# This script defines a function to perform division and handles division by zero errors.\n",
    "def divission(a, b):\n",
    "    # Error handling block to catch division by zero with a try-except structure.\n",
    "    try:\n",
    "        # Convert inputs to float and perform division\n",
    "        a = float(a)\n",
    "        b = float(b)\n",
    "        # Main part of the function that performs the division\n",
    "        return a / b\n",
    "    # Catching division by zero error and returning a custom error message\n",
    "    except ZeroDivisionError:\n",
    "        return \"Error: Division by zero. Enter a non-zero denominator.\"\n",
    "    except ValueError:\n",
    "        return \"Error: Invalid input. Both arguments must be numeric values.\"\n",
    "    \n",
    "# Calling the function with example values\n",
    "divission(9, 0)\n"
   ]
  },
  {
   "cell_type": "markdown",
   "id": "830bf464",
   "metadata": {},
   "source": [
    "### 2."
   ]
  },
  {
   "cell_type": "code",
   "execution_count": null,
   "id": "d95d37c8",
   "metadata": {},
   "outputs": [],
   "source": [
    "import datetime as getdate\n",
    "\n",
    "# This script defines a function to calculate the year of birth based on age.\n",
    "def year_of_birth(age):\n",
    "    # Check if the input is a valid number\n",
    "    if not isinstance(age, (int, float)):\n",
    "        raise ValueError(\"Error: Invalid input. Age must be a numeric value.\")\n",
    "    # Check if the age is negative\n",
    "    if age < 0:\n",
    "        return \"Error: Invalid input. Age cannot be negative.\"\n",
    "    # Calculate the year of birth\n",
    "    current_year = getdate.datetime.now().year\n",
    "    return current_year - age\n",
    "\n",
    "# Example usage of the year_of_birth function\n",
    "year_of_birth(12)"
   ]
  },
  {
   "cell_type": "markdown",
   "id": "86efdc7d",
   "metadata": {},
   "source": [
    "### 3."
   ]
  },
  {
   "cell_type": "code",
   "execution_count": null,
   "id": "0c92e65e",
   "metadata": {},
   "outputs": [],
   "source": [
    "# This script defines a function to open a file and read its contents, handling file not found errors.\n",
    "def file_open(file_name):\n",
    "    # Attempt to open the file and read its contents\n",
    "    try:\n",
    "        # Open the file in read text mode\n",
    "        with open(file_name, \"rt\") as f:\n",
    "            # Read the contents of the file\n",
    "            return f.read()\n",
    "    # Catching file not found error\n",
    "    except FileNotFoundError:\n",
    "        # Return a custom error message if the file cannot be found or opened\n",
    "        return \"Error: File not found or cannot be opened.\"\n",
    "    \n",
    "\n",
    "        \n",
    "\n",
    "# Example usage of the file_open function\n",
    "file_open(\"lll.txt\")"
   ]
  },
  {
   "cell_type": "markdown",
   "id": "3e8801e7",
   "metadata": {},
   "source": [
    "### 4."
   ]
  },
  {
   "cell_type": "code",
   "execution_count": null,
   "id": "187ebe95",
   "metadata": {},
   "outputs": [],
   "source": [
    "# This code asks the user to input two numbers, calculates their sum, and handles non-integer inputs.\n",
    "def Two_number():\n",
    "    try:\n",
    "        num1 = int(input(\"Enter the first number: \"))\n",
    "        num2 = int(input(\"Enter the second number: \"))\n",
    "\n",
    "        return f\"The numbers you entered are: {num1} and {num2} and the sum of them is:\", int(num1) + int(num2)\n",
    "    \n",
    "    except ValueError:\n",
    "        return TypeError (\"Error: The input number must be integers.\")\n",
    "        \n",
    "    \n",
    "Two_number()"
   ]
  },
  {
   "cell_type": "markdown",
   "id": "72a3ecdc",
   "metadata": {},
   "source": [
    "### 5."
   ]
  },
  {
   "cell_type": "code",
   "execution_count": null,
   "id": "374de6c6",
   "metadata": {},
   "outputs": [],
   "source": [
    "# This script defines a function to perform division and handle arithmetic errors.\n",
    "def permission(file):\n",
    "    try:\n",
    "        # Open the file in read mode\n",
    "        with open(file, \"r\") as f:\n",
    "            # Read the contents of the file\n",
    "            return f.read()\n",
    "    except PermissionError:\n",
    "        # Return a custom error message if permission is denied\n",
    "        return \"Error: Permission denied. You do not have access to this file.\"\n",
    "\n",
    "# Example usage of the permission function\n",
    "permission(\"ll.txt\")"
   ]
  },
  {
   "cell_type": "markdown",
   "id": "51179a5f",
   "metadata": {},
   "source": [
    "### 6."
   ]
  },
  {
   "cell_type": "code",
   "execution_count": null,
   "id": "d4478982",
   "metadata": {},
   "outputs": [],
   "source": [
    "fruits = [\"apple\", \"banana\", \"cherry\"]\n",
    "\n",
    "# This script defines a function to handle list indexing and catch index errors.\n",
    "def fifth_el(lst):\n",
    "    # Attempt to access the 6th element of the list (index 5)\n",
    "    try:\n",
    "        # Return the 6th element of the list\n",
    "        return lst[5]\n",
    "    # Catching index error if the list does not have enough elements\n",
    "    except IndexError:\n",
    "        # Return a custom error message if the index is out of range\n",
    "        return \"Error: Index out of range. The list does not have that many elements.\"\n",
    "    \n",
    "# Example usage of the list_handler function\n",
    "fifth_el(fruits)"
   ]
  },
  {
   "cell_type": "markdown",
   "id": "cf8e97da",
   "metadata": {},
   "source": [
    "### 7."
   ]
  },
  {
   "cell_type": "code",
   "execution_count": null,
   "id": "f3a2ce0b",
   "metadata": {},
   "outputs": [],
   "source": [
    "# This script defines a function to perform division and handle arithmetic errors.\n",
    "def user_input():\n",
    "    try:\n",
    "        # Prompt the user for input\n",
    "        user_input = int(input(\"Enter a numeric value: \"))\n",
    "        # Return the user input\n",
    "        return f\"You entered: {user_input}\"\n",
    "    except ValueError:\n",
    "        # Handle invalid input\n",
    "        return \"Error: Invalid input. Please enter a numeric value.\"\n",
    "    except KeyboardInterrupt:\n",
    "        # Handle keyboard interrupt\n",
    "        return \"Error: Input interrupted by user. Please try again.\"\n",
    "    \n",
    "user_input()\n",
    "        "
   ]
  },
  {
   "cell_type": "markdown",
   "id": "4b02390d",
   "metadata": {},
   "source": [
    "### 8."
   ]
  },
  {
   "cell_type": "code",
   "execution_count": null,
   "id": "1d7047e4",
   "metadata": {},
   "outputs": [],
   "source": [
    "# This script defines a function to perform division and handle arithmetic errors.\n",
    "def division(a, b):\n",
    "    # Attempt to perform division and catch any arithmetic errors\n",
    "    try:\n",
    "        # Convert inputs to float and perform division\n",
    "        return float(a) / float(b)\n",
    "    # catching a value error if the inputs are not numeric\n",
    "    except ValueError:\n",
    "        # Return a custom error message if the inputs are not numeric\n",
    "        return \"Error: Invalid input. Both arguments must be numeric values.\"\n",
    "    except ArithmeticError as e:\n",
    "        # Return a custom error message if an arithmetic error occurs\n",
    "        return f\"An arithmetic error occurred: {e}\"\n",
    "\n",
    "# Example usage of the division function\n",
    "division(9, 3)"
   ]
  },
  {
   "cell_type": "markdown",
   "id": "b29bffe7",
   "metadata": {},
   "source": [
    "### 9."
   ]
  },
  {
   "cell_type": "code",
   "execution_count": null,
   "id": "2948082c",
   "metadata": {},
   "outputs": [],
   "source": [
    "def file_open2(file):\n",
    "    try:\n",
    "        # Open the file in read mode\n",
    "        with open(file, \"r\") as f:\n",
    "            # Read the contents of the file\n",
    "            return f.read()\n",
    "    except UnicodeDecodeError as e:\n",
    "        # Return a custom error message if permission is denied\n",
    "        return f\"Error message: {e}.\"\n",
    "\n",
    "# Example usage of the permission function\n",
    "file_open2(\"Online Store SQL Management System.docx\")"
   ]
  },
  {
   "cell_type": "markdown",
   "id": "2309f594",
   "metadata": {},
   "source": [
    "### 10."
   ]
  },
  {
   "cell_type": "code",
   "execution_count": null,
   "id": "e7a14a73",
   "metadata": {},
   "outputs": [],
   "source": [
    "my_list = [1, 2, 3]\n",
    "\n",
    "def append_to_list(lst, item):\n",
    "    # Attempt to append an item to the list\n",
    "    try:\n",
    "        # Append the item to the list\n",
    "        lst.append(item)\n",
    "        return lst\n",
    "    except AttributeError as e:\n",
    "        # Return a custom error message if the append method is not available\n",
    "        return f\"Error: {e}\"\n",
    "\n",
    "# Example usage of the append_to_list function\n",
    "append_to_list(my_list, 4)"
   ]
  },
  {
   "cell_type": "markdown",
   "id": "06f97311",
   "metadata": {},
   "source": [
    "#### Python File Input Output: Exercises, Practice, Solution"
   ]
  },
  {
   "cell_type": "markdown",
   "id": "3117d244",
   "metadata": {},
   "source": [
    "### 1."
   ]
  },
  {
   "cell_type": "code",
   "execution_count": null,
   "id": "14881a5b",
   "metadata": {},
   "outputs": [],
   "source": [
    "# This code opens a file and reads the entire content\n",
    "def read_file(file):\n",
    "    # This function opens a file and reads its content and closes it properly\n",
    "    with open(file, \"rt\") as f:\n",
    "        # Read the entire content of the file\n",
    "        return f.read()\n",
    "    \n",
    "# Example usage of the read_file function\n",
    "read_file(\"ll.txt\")"
   ]
  },
  {
   "cell_type": "markdown",
   "id": "b7952fbd",
   "metadata": {},
   "source": [
    "### 2."
   ]
  },
  {
   "cell_type": "code",
   "execution_count": null,
   "id": "5b71eede",
   "metadata": {},
   "outputs": [],
   "source": [
    "# This script defines a function to perform division and handle arithmetic errors.\n",
    "def read_n_lines(file, n):\n",
    "    # Attempt to read the first n lines of the file\n",
    "    try:\n",
    "        with open(file) as f:\n",
    "            # Read the first n lines of the file\n",
    "            lines = []\n",
    "            # Iterate through the file and read up to n lines\n",
    "            # Using enumerate to keep track of the line number\n",
    "            # Using start=1 to start counting lines from 1\n",
    "            for i, line in enumerate(f, start=1):\n",
    "                if i > n:\n",
    "                    break\n",
    "                # Append each line to the list, stripping the newline character\n",
    "                lines.append(line.rstrip('\\n'))\n",
    "            return lines\n",
    "    # Catching file not found error\n",
    "    except FileNotFoundError:\n",
    "        # Return a custom error message if the file is not found\n",
    "        return \"Error: File not found.\"\n",
    "    # Catching I/O errors\n",
    "    except IOError:\n",
    "        return [\"Error: An I/O error occurred while reading the file.\"]\n",
    "    \n",
    "# Example usage of the read_n_lines function\n",
    "read_n_lines(\"ll.txt\", 5)"
   ]
  },
  {
   "cell_type": "markdown",
   "id": "17810919",
   "metadata": {},
   "source": [
    "### 3."
   ]
  },
  {
   "cell_type": "code",
   "execution_count": null,
   "id": "4055c358",
   "metadata": {},
   "outputs": [],
   "source": [
    "def text_append(file, text):\n",
    "    try:\n",
    "        with open(file, \"a\") as f:\n",
    "            f.write(text + \"\\n\")\n",
    "        last_line = text.splitlines()[-1]  # Get the last line added\n",
    "        with open(file, \"r\") as f:\n",
    "            return f\"The text you added: {last_line}\"\n",
    "    except FileNotFoundError:\n",
    "        return \"Error: File not found.\"\n",
    "    except IOError:\n",
    "        return \"Error: An I/O error occurred while writing to the file.\"\n",
    "    \n",
    "# Example usage of the text_append function\n",
    "text_append(\"ll.txt\", \"This is a new line of text.\")"
   ]
  },
  {
   "cell_type": "markdown",
   "id": "55eb7705",
   "metadata": {},
   "source": [
    "### 4."
   ]
  },
  {
   "cell_type": "code",
   "execution_count": null,
   "id": "c5ce5aa0",
   "metadata": {},
   "outputs": [],
   "source": [
    "def read_last_line(file):\n",
    "    try:\n",
    "        with open(file, \"r\") as f:\n",
    "            lines = f.readlines()\n",
    "            if lines:\n",
    "                return lines[-1].rstrip('\\n')  # Return the last line without newline character\n",
    "            else:\n",
    "                return \"Error: The file is empty.\"\n",
    "    except FileNotFoundError:\n",
    "        return \"Error: File not found.\"\n",
    "    except IOError:\n",
    "        return \"Error: An I/O error occurred while reading the file.\"\n",
    "    \n",
    "# Example usage of the read_last_line function\n",
    "read_last_line(\"ll.txt\")"
   ]
  },
  {
   "cell_type": "markdown",
   "id": "65eee38c",
   "metadata": {},
   "source": [
    "### 5."
   ]
  },
  {
   "cell_type": "code",
   "execution_count": null,
   "id": "56855966",
   "metadata": {},
   "outputs": [],
   "source": [
    "\n",
    "def read_file_to_list(file):\n",
    "    try:\n",
    "        # Open the file in read mode\n",
    "        with open(file, 'r') as f:\n",
    "            # Read all lines from the file and store them in a list\n",
    "            lines = f.readlines()\n",
    "        \n",
    "        # Strip newline characters (\\n) from each line if needed\n",
    "        lines = [line.strip() for line in lines]\n",
    "        \n",
    "        return lines\n",
    "    except FileNotFoundError:\n",
    "        return \"Error: File not found.\"\n",
    "    except IOError:\n",
    "        return \"Error: An I/O error occurred while reading the file.\"\n",
    "    \n",
    "# Example use of the function\n",
    "\n",
    "read_file_to_list(\"ll.txt\")"
   ]
  },
  {
   "cell_type": "markdown",
   "id": "0991c490",
   "metadata": {},
   "source": [
    "### 6."
   ]
  },
  {
   "cell_type": "code",
   "execution_count": null,
   "id": "37023b34",
   "metadata": {},
   "outputs": [],
   "source": [
    "def read_lines_variable(file):\n",
    "    try:     \n",
    "        with open(file, \"r\") as f:\n",
    "            lines = f.readlines()\n",
    "            lines = [line.strip() for line in lines]\n",
    "            lines = ' '.join(lines)\n",
    "            return lines\n",
    "    except FileNotFoundError:\n",
    "        return \"Error: File not found.\"\n",
    "    except IOError:\n",
    "        return \"Error: An I/O error occurred while reading the file.\"\n",
    "\n",
    "#Example use of the function\n",
    "read_lines_variable(\"ll.txt\")"
   ]
  },
  {
   "cell_type": "markdown",
   "id": "2c372f93",
   "metadata": {},
   "source": [
    "### 7."
   ]
  },
  {
   "cell_type": "code",
   "execution_count": null,
   "id": "a556b086",
   "metadata": {},
   "outputs": [],
   "source": [
    "def read_lines_array(file):\n",
    "    text = []\n",
    "    try:     \n",
    "        with open(file, \"r\") as f:\n",
    "            lines = f.readlines()\n",
    "            for line in lines:\n",
    "                text.append(line.strip())\n",
    "            return text\n",
    "    except FileNotFoundError:\n",
    "        return \"Error: File not found.\"\n",
    "    except IOError:\n",
    "        return \"Error: An I/O error occurred while reading the file.\"\n",
    "\n",
    "#Example use of the function\n",
    "read_lines_array(\"ll.txt\")"
   ]
  },
  {
   "cell_type": "markdown",
   "id": "e385a06d",
   "metadata": {},
   "source": [
    "### 8."
   ]
  },
  {
   "cell_type": "code",
   "execution_count": null,
   "id": "9a6b3437",
   "metadata": {},
   "outputs": [],
   "source": [
    "def longest_words(file):\n",
    "    try:\n",
    "        # Open the file in read mode\n",
    "        with open(file, 'r') as file:\n",
    "            # Initialize a list to store the results\n",
    "            longest_words_per_line = []\n",
    "\n",
    "            # Read the file line by line\n",
    "            for line_number, line in enumerate(file, start=1):\n",
    "                # Remove leading/trailing whitespace and split the line into words\n",
    "                words = line.strip().split()\n",
    "\n",
    "                if not words:  # Skip empty lines\n",
    "                    continue\n",
    "\n",
    "                # Find the length of the longest word(s) in the line\n",
    "                max_length = max(len(word) for word in words)\n",
    "\n",
    "                # Collect all words with the maximum length\n",
    "                longest_words = [word for word in words if len(word) == max_length]\n",
    "\n",
    "                # Append the result for this line to the results list\n",
    "                longest_words_per_line.append((line_number, longest_words))\n",
    "\n",
    "        # Print the results\n",
    "        for line_number, longest_words in longest_words_per_line:\n",
    "            print(f\"Line {line_number}: Longest word(s): {', '.join(longest_words)}\")\n",
    "\n",
    "    except FileNotFoundError:\n",
    "        return \"Error: File not found.\"\n",
    "    except IOError:\n",
    "        return \"Error: An I/O error occurred while reading the file.\"\n",
    "\n",
    "longest_words(\"ll.txt\")"
   ]
  },
  {
   "cell_type": "markdown",
   "id": "f1c38a17",
   "metadata": {},
   "source": [
    "### 9."
   ]
  },
  {
   "cell_type": "code",
   "execution_count": null,
   "id": "725cf4ec",
   "metadata": {},
   "outputs": [],
   "source": [
    "def line_count(file):\n",
    "    try:\n",
    "        with open(\"ll.txt\", \"r\") as f:\n",
    "            count = sum(1 for line in f)\n",
    "            return count\n",
    "    except FileNotFoundError:\n",
    "        return \"Error: File not found.\"\n",
    "    except IOError:\n",
    "        return \"Error: An I/O error occurred while reading the file.\"\n",
    "\n",
    "line_count(\"ll.txt\")"
   ]
  },
  {
   "cell_type": "markdown",
   "id": "8f754148",
   "metadata": {},
   "source": [
    "### 10."
   ]
  }
 ],
 "metadata": {
  "kernelspec": {
   "display_name": "Python 3",
   "language": "python",
   "name": "python3"
  },
  "language_info": {
   "codemirror_mode": {
    "name": "ipython",
    "version": 3
   },
   "file_extension": ".py",
   "mimetype": "text/x-python",
   "name": "python",
   "nbconvert_exporter": "python",
   "pygments_lexer": "ipython3",
   "version": "3.13.1"
  }
 },
 "nbformat": 4,
 "nbformat_minor": 5
}
