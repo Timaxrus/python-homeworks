{
 "cells": [
  {
   "cell_type": "markdown",
   "id": "0de2904a",
   "metadata": {},
   "source": [
    "### 1."
   ]
  },
  {
   "cell_type": "code",
   "execution_count": null,
   "id": "c01d37a8",
   "metadata": {},
   "outputs": [
    {
     "data": {
      "text/plain": [
       "'Error: Invalid input. Please enter numeric values.'"
      ]
     },
     "execution_count": 11,
     "metadata": {},
     "output_type": "execute_result"
    }
   ],
   "source": [
    "# This script defines a function to perform division and handles division by zero errors.\n",
    "def divission(a, b):\n",
    "    # Error handling block to catch division by zero with a try-except structure.\n",
    "    try:\n",
    "        # Convert inputs to float and perform division\n",
    "        a = float(a)\n",
    "        b = float(b)\n",
    "        # Main part of the function that performs the division\n",
    "        return a / b\n",
    "    # Catching division by zero error and returning a custom error message\n",
    "    except ZeroDivisionError:\n",
    "        return \"Error: Division by zero. Enter a non-zero denominator.\"\n",
    "    except ValueError:\n",
    "        return \"Error: Invalid input. Both arguments must be numeric values.\"\n",
    "    \n",
    "# Calling the function with example values\n",
    "divission(9, 0)\n"
   ]
  },
  {
   "cell_type": "markdown",
   "id": "830bf464",
   "metadata": {},
   "source": [
    "### 2."
   ]
  },
  {
   "cell_type": "code",
   "execution_count": 30,
   "id": "d95d37c8",
   "metadata": {},
   "outputs": [
    {
     "data": {
      "text/plain": [
       "2013"
      ]
     },
     "execution_count": 30,
     "metadata": {},
     "output_type": "execute_result"
    }
   ],
   "source": [
    "import datetime as getdate\n",
    "\n",
    "# This script defines a function to calculate the year of birth based on age.\n",
    "def year_of_birth(age):\n",
    "    # Check if the input is a valid number\n",
    "    if not isinstance(age, (int, float)):\n",
    "        raise ValueError(\"Error: Invalid input. Age must be a numeric value.\")\n",
    "    # Check if the age is negative\n",
    "    if age < 0:\n",
    "        return \"Error: Invalid input. Age cannot be negative.\"\n",
    "    # Calculate the year of birth\n",
    "    current_year = getdate.datetime.now().year\n",
    "    return current_year - age\n",
    "\n",
    "# Example usage of the year_of_birth function\n",
    "year_of_birth(12)"
   ]
  },
  {
   "cell_type": "markdown",
   "id": "86efdc7d",
   "metadata": {},
   "source": [
    "### 3."
   ]
  },
  {
   "cell_type": "code",
   "execution_count": 34,
   "id": "0c92e65e",
   "metadata": {},
   "outputs": [
    {
     "data": {
      "text/plain": [
       "'I am learning python and I think it is not so difficult to learn. I am very happy to learn it.'"
      ]
     },
     "execution_count": 34,
     "metadata": {},
     "output_type": "execute_result"
    }
   ],
   "source": [
    "# This script defines a function to open a file and read its contents, handling file not found errors.\n",
    "def file_open(file_name):\n",
    "    # Attempt to open the file and read its contents\n",
    "    try:\n",
    "        # Open the file in read text mode\n",
    "        f = open(file_name, \"rt\")\n",
    "    # Catching file not found error\n",
    "    except FileNotFoundError:\n",
    "        # Return a custom error message if the file cannot be found or opened\n",
    "        return \"Error: File not found or cannot be opened.\"\n",
    "    # If the file is opened successfully, read its contents\n",
    "    else:\n",
    "        with f:\n",
    "            # Read the contents of the file\n",
    "            return f.read()\n",
    "        \n",
    "\n",
    "# Example usage of the file_open function\n",
    "file_open(\"ll.txt\")"
   ]
  },
  {
   "cell_type": "markdown",
   "id": "3e8801e7",
   "metadata": {},
   "source": [
    "### 4."
   ]
  },
  {
   "cell_type": "code",
   "execution_count": 65,
   "id": "187ebe95",
   "metadata": {},
   "outputs": [
    {
     "data": {
      "text/plain": [
       "TypeError('Error: The input number must be integers.')"
      ]
     },
     "execution_count": 65,
     "metadata": {},
     "output_type": "execute_result"
    }
   ],
   "source": [
    "def funcy():\n",
    "    try:\n",
    "        num1 = int(input(\"Enter the first number: \"))\n",
    "        num2 = int(input(\"Enter the second number: \"))\n",
    "\n",
    "        return f\"The numbers you entered are: {num1} and {num2} \\n and the sum of them is:\", int(num1) + int(num2)\n",
    "    \n",
    "    except ValueError:\n",
    "        return TypeError (\"Error: The input number must be integers.\")\n",
    "        \n",
    "    \n",
    "funcy()"
   ]
  }
 ],
 "metadata": {
  "kernelspec": {
   "display_name": "Python 3",
   "language": "python",
   "name": "python3"
  },
  "language_info": {
   "codemirror_mode": {
    "name": "ipython",
    "version": 3
   },
   "file_extension": ".py",
   "mimetype": "text/x-python",
   "name": "python",
   "nbconvert_exporter": "python",
   "pygments_lexer": "ipython3",
   "version": "3.13.1"
  }
 },
 "nbformat": 4,
 "nbformat_minor": 5
}
