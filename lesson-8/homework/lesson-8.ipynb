{
 "cells": [
  {
   "cell_type": "markdown",
   "id": "0de2904a",
   "metadata": {},
   "source": [
    "### 1."
   ]
  },
  {
   "cell_type": "code",
   "execution_count": null,
   "id": "c01d37a8",
   "metadata": {},
   "outputs": [],
   "source": [
    "# This script defines a function to perform division and handles division by zero errors.\n",
    "def divission(a, b):\n",
    "    # Error handling block to catch division by zero with a try-except structure.\n",
    "    try:\n",
    "        # Convert inputs to float and perform division\n",
    "        a = float(a)\n",
    "        b = float(b)\n",
    "        # Main part of the function that performs the division\n",
    "        return a / b\n",
    "    # Catching division by zero error and returning a custom error message\n",
    "    except ZeroDivisionError:\n",
    "        return \"Error: Division by zero. Enter a non-zero denominator.\"\n",
    "    except ValueError:\n",
    "        return \"Error: Invalid input. Both arguments must be numeric values.\"\n",
    "    \n",
    "# Calling the function with example values\n",
    "divission(9, 0)\n"
   ]
  },
  {
   "cell_type": "markdown",
   "id": "830bf464",
   "metadata": {},
   "source": [
    "### 2."
   ]
  },
  {
   "cell_type": "code",
   "execution_count": null,
   "id": "d95d37c8",
   "metadata": {},
   "outputs": [],
   "source": [
    "import datetime as getdate\n",
    "\n",
    "# This script defines a function to calculate the year of birth based on age.\n",
    "def year_of_birth(age):\n",
    "    # Check if the input is a valid number\n",
    "    if not isinstance(age, (int, float)):\n",
    "        raise ValueError(\"Error: Invalid input. Age must be a numeric value.\")\n",
    "    # Check if the age is negative\n",
    "    if age < 0:\n",
    "        return \"Error: Invalid input. Age cannot be negative.\"\n",
    "    # Calculate the year of birth\n",
    "    current_year = getdate.datetime.now().year\n",
    "    return current_year - age\n",
    "\n",
    "# Example usage of the year_of_birth function\n",
    "year_of_birth(12)"
   ]
  },
  {
   "cell_type": "markdown",
   "id": "86efdc7d",
   "metadata": {},
   "source": [
    "### 3."
   ]
  },
  {
   "cell_type": "code",
   "execution_count": null,
   "id": "0c92e65e",
   "metadata": {},
   "outputs": [],
   "source": [
    "# This script defines a function to open a file and read its contents, handling file not found errors.\n",
    "def file_open(file_name):\n",
    "    # Attempt to open the file and read its contents\n",
    "    try:\n",
    "        # Open the file in read text mode\n",
    "        with open(file_name, \"rt\") as f:\n",
    "            # Read the contents of the file\n",
    "            return f.read()\n",
    "    # Catching file not found error\n",
    "    except FileNotFoundError:\n",
    "        # Return a custom error message if the file cannot be found or opened\n",
    "        return \"Error: File not found or cannot be opened.\"\n",
    "    \n",
    "\n",
    "        \n",
    "\n",
    "# Example usage of the file_open function\n",
    "file_open(\"lll.txt\")"
   ]
  },
  {
   "cell_type": "markdown",
   "id": "3e8801e7",
   "metadata": {},
   "source": [
    "### 4."
   ]
  },
  {
   "cell_type": "code",
   "execution_count": null,
   "id": "187ebe95",
   "metadata": {},
   "outputs": [],
   "source": [
    "# This code asks the user to input two numbers, calculates their sum, and handles non-integer inputs.\n",
    "def Two_number():\n",
    "    try:\n",
    "        num1 = int(input(\"Enter the first number: \"))\n",
    "        num2 = int(input(\"Enter the second number: \"))\n",
    "\n",
    "        return f\"The numbers you entered are: {num1} and {num2} and the sum of them is:\", int(num1) + int(num2)\n",
    "    \n",
    "    except ValueError:\n",
    "        return TypeError (\"Error: The input number must be integers.\")\n",
    "        \n",
    "    \n",
    "Two_number()"
   ]
  },
  {
   "cell_type": "markdown",
   "id": "72a3ecdc",
   "metadata": {},
   "source": [
    "### 5."
   ]
  },
  {
   "cell_type": "code",
   "execution_count": null,
   "id": "374de6c6",
   "metadata": {},
   "outputs": [],
   "source": [
    "# This script defines a function to perform division and handle arithmetic errors.\n",
    "def permission(file):\n",
    "    try:\n",
    "        # Open the file in read mode\n",
    "        with open(file, \"r\") as f:\n",
    "            # Read the contents of the file\n",
    "            return f.read()\n",
    "    except PermissionError:\n",
    "        # Return a custom error message if permission is denied\n",
    "        return \"Error: Permission denied. You do not have access to this file.\"\n",
    "\n",
    "# Example usage of the permission function\n",
    "permission(\"ll.txt\")"
   ]
  },
  {
   "cell_type": "markdown",
   "id": "51179a5f",
   "metadata": {},
   "source": [
    "### 6."
   ]
  },
  {
   "cell_type": "code",
   "execution_count": null,
   "id": "d4478982",
   "metadata": {},
   "outputs": [],
   "source": [
    "fruits = [\"apple\", \"banana\", \"cherry\"]\n",
    "\n",
    "# This script defines a function to handle list indexing and catch index errors.\n",
    "def fifth_el(lst):\n",
    "    # Attempt to access the 6th element of the list (index 5)\n",
    "    try:\n",
    "        # Return the 6th element of the list\n",
    "        return lst[5]\n",
    "    # Catching index error if the list does not have enough elements\n",
    "    except IndexError:\n",
    "        # Return a custom error message if the index is out of range\n",
    "        return \"Error: Index out of range. The list does not have that many elements.\"\n",
    "    \n",
    "# Example usage of the list_handler function\n",
    "fifth_el(fruits)"
   ]
  },
  {
   "cell_type": "markdown",
   "id": "cf8e97da",
   "metadata": {},
   "source": [
    "### 7."
   ]
  },
  {
   "cell_type": "code",
   "execution_count": null,
   "id": "f3a2ce0b",
   "metadata": {},
   "outputs": [],
   "source": [
    "# This script defines a function to perform division and handle arithmetic errors.\n",
    "def user_input():\n",
    "    try:\n",
    "        # Prompt the user for input\n",
    "        user_input = int(input(\"Enter a numeric value: \"))\n",
    "        # Return the user input\n",
    "        return f\"You entered: {user_input}\"\n",
    "    except ValueError:\n",
    "        # Handle invalid input\n",
    "        return \"Error: Invalid input. Please enter a numeric value.\"\n",
    "    except KeyboardInterrupt:\n",
    "        # Handle keyboard interrupt\n",
    "        return \"Error: Input interrupted by user. Please try again.\"\n",
    "    \n",
    "user_input()\n",
    "        "
   ]
  },
  {
   "cell_type": "markdown",
   "id": "4b02390d",
   "metadata": {},
   "source": [
    "### 8."
   ]
  },
  {
   "cell_type": "code",
   "execution_count": null,
   "id": "1d7047e4",
   "metadata": {},
   "outputs": [],
   "source": [
    "# This script defines a function to perform division and handle arithmetic errors.\n",
    "def division(a, b):\n",
    "    # Attempt to perform division and catch any arithmetic errors\n",
    "    try:\n",
    "        # Convert inputs to float and perform division\n",
    "        return float(a) / float(b)\n",
    "    # catching a value error if the inputs are not numeric\n",
    "    except ValueError:\n",
    "        # Return a custom error message if the inputs are not numeric\n",
    "        return \"Error: Invalid input. Both arguments must be numeric values.\"\n",
    "    except ArithmeticError as e:\n",
    "        # Return a custom error message if an arithmetic error occurs\n",
    "        return f\"An arithmetic error occurred: {e}\"\n",
    "\n",
    "# Example usage of the division function\n",
    "division(9, 3)"
   ]
  },
  {
   "cell_type": "markdown",
   "id": "b29bffe7",
   "metadata": {},
   "source": [
    "### 9."
   ]
  },
  {
   "cell_type": "code",
   "execution_count": null,
   "id": "2948082c",
   "metadata": {},
   "outputs": [],
   "source": [
    "def file_open2(file):\n",
    "    try:\n",
    "        # Open the file in read mode\n",
    "        with open(file, \"r\") as f:\n",
    "            # Read the contents of the file\n",
    "            return f.read()\n",
    "    except UnicodeDecodeError as e:\n",
    "        # Return a custom error message if permission is denied\n",
    "        return f\"Error message: {e}.\"\n",
    "\n",
    "# Example usage of the permission function\n",
    "file_open2(\"Online Store SQL Management System.docx\")"
   ]
  },
  {
   "cell_type": "markdown",
   "id": "2309f594",
   "metadata": {},
   "source": [
    "### 10."
   ]
  },
  {
   "cell_type": "code",
   "execution_count": null,
   "id": "e7a14a73",
   "metadata": {},
   "outputs": [],
   "source": [
    "my_list = [1, 2, 3]\n",
    "\n",
    "def append_to_list(lst, item):\n",
    "    # Attempt to append an item to the list\n",
    "    try:\n",
    "        # Append the item to the list\n",
    "        lst.append(item)\n",
    "        return lst\n",
    "    except AttributeError as e:\n",
    "        # Return a custom error message if the append method is not available\n",
    "        return f\"Error: {e}\"\n",
    "\n",
    "# Example usage of the append_to_list function\n",
    "append_to_list(my_list, 4)"
   ]
  },
  {
   "cell_type": "markdown",
   "id": "06f97311",
   "metadata": {},
   "source": [
    "#### Python File Input Output: Exercises, Practice, Solution"
   ]
  },
  {
   "cell_type": "markdown",
   "id": "3117d244",
   "metadata": {},
   "source": [
    "### 1."
   ]
  },
  {
   "cell_type": "code",
   "execution_count": null,
   "id": "14881a5b",
   "metadata": {},
   "outputs": [],
   "source": [
    "# This code opens a file and reads the entire content\n",
    "def read_file(file):\n",
    "    # This function opens a file and reads its content and closes it properly\n",
    "    with open(file, \"rt\") as f:\n",
    "        # Read the entire content of the file\n",
    "        return f.read()\n",
    "    \n",
    "# Example usage of the read_file function\n",
    "read_file(\"ll.txt\")"
   ]
  },
  {
   "cell_type": "markdown",
   "id": "b7952fbd",
   "metadata": {},
   "source": [
    "### 2."
   ]
  },
  {
   "cell_type": "code",
   "execution_count": null,
   "id": "5b71eede",
   "metadata": {},
   "outputs": [],
   "source": [
    "# This script defines a function to perform division and handle arithmetic errors.\n",
    "def read_n_lines(file, n):\n",
    "    # Attempt to read the first n lines of the file\n",
    "    try:\n",
    "        with open(file) as f:\n",
    "            # Read the first n lines of the file\n",
    "            lines = []\n",
    "            # Iterate through the file and read up to n lines\n",
    "            # Using enumerate to keep track of the line number\n",
    "            # Using start=1 to start counting lines from 1\n",
    "            for i, line in enumerate(f, start=1):\n",
    "                if i > n:\n",
    "                    break\n",
    "                # Append each line to the list, stripping the newline character\n",
    "                lines.append(line.rstrip('\\n'))\n",
    "            return lines\n",
    "    # Catching file not found error\n",
    "    except FileNotFoundError:\n",
    "        # Return a custom error message if the file is not found\n",
    "        return \"Error: File not found.\"\n",
    "    # Catching I/O errors\n",
    "    except IOError:\n",
    "        return [\"Error: An I/O error occurred while reading the file.\"]\n",
    "    \n",
    "# Example usage of the read_n_lines function\n",
    "read_n_lines(\"ll.txt\", 5)"
   ]
  },
  {
   "cell_type": "markdown",
   "id": "17810919",
   "metadata": {},
   "source": [
    "### 3."
   ]
  },
  {
   "cell_type": "code",
   "execution_count": null,
   "id": "4055c358",
   "metadata": {},
   "outputs": [],
   "source": [
    "def text_append(file, text):\n",
    "    try:\n",
    "        with open(file, \"a\") as f:\n",
    "            f.write(text + \"\\n\")\n",
    "        last_line = text.splitlines()[-1]  # Get the last line added\n",
    "        with open(file, \"r\") as f:\n",
    "            return f\"The text you added: {last_line}\"\n",
    "    except FileNotFoundError:\n",
    "        return \"Error: File not found.\"\n",
    "    except IOError:\n",
    "        return \"Error: An I/O error occurred while writing to the file.\"\n",
    "    \n",
    "# Example usage of the text_append function\n",
    "text_append(\"ll.txt\", \"This is a new line of text.\")"
   ]
  },
  {
   "cell_type": "markdown",
   "id": "55eb7705",
   "metadata": {},
   "source": [
    "### 4."
   ]
  },
  {
   "cell_type": "code",
   "execution_count": null,
   "id": "c5ce5aa0",
   "metadata": {},
   "outputs": [],
   "source": [
    "def read_last_line(file):\n",
    "    try:\n",
    "        with open(file, \"r\") as f:\n",
    "            lines = f.readlines()\n",
    "            if lines:\n",
    "                return lines[-1].rstrip('\\n')  # Return the last line without newline character\n",
    "            else:\n",
    "                return \"Error: The file is empty.\"\n",
    "    except FileNotFoundError:\n",
    "        return \"Error: File not found.\"\n",
    "    except IOError:\n",
    "        return \"Error: An I/O error occurred while reading the file.\"\n",
    "    \n",
    "# Example usage of the read_last_line function\n",
    "read_last_line(\"ll.txt\")"
   ]
  },
  {
   "cell_type": "markdown",
   "id": "65eee38c",
   "metadata": {},
   "source": [
    "### 5."
   ]
  },
  {
   "cell_type": "code",
   "execution_count": null,
   "id": "56855966",
   "metadata": {},
   "outputs": [],
   "source": [
    "\n",
    "def read_file_to_list(file):\n",
    "    try:\n",
    "        # Open the file in read mode\n",
    "        with open(file, 'r') as f:\n",
    "            # Read all lines from the file and store them in a list\n",
    "            lines = f.readlines()\n",
    "        \n",
    "        # Strip newline characters (\\n) from each line if needed\n",
    "        lines = [line.strip() for line in lines]\n",
    "        \n",
    "        return lines\n",
    "    except FileNotFoundError:\n",
    "        return \"Error: File not found.\"\n",
    "    except IOError:\n",
    "        return \"Error: An I/O error occurred while reading the file.\"\n",
    "    \n",
    "# Example use of the function\n",
    "\n",
    "read_file_to_list(\"ll.txt\")"
   ]
  },
  {
   "cell_type": "markdown",
   "id": "0991c490",
   "metadata": {},
   "source": [
    "### 6."
   ]
  },
  {
   "cell_type": "code",
   "execution_count": null,
   "id": "37023b34",
   "metadata": {},
   "outputs": [],
   "source": [
    "def read_lines_variable(file):\n",
    "    try:     \n",
    "        with open(file, \"r\") as f:\n",
    "            lines = f.readlines()\n",
    "            lines = [line.strip() for line in lines]\n",
    "            lines = ' '.join(lines)\n",
    "            return lines\n",
    "    except FileNotFoundError:\n",
    "        return \"Error: File not found.\"\n",
    "    except IOError:\n",
    "        return \"Error: An I/O error occurred while reading the file.\"\n",
    "\n",
    "#Example use of the function\n",
    "read_lines_variable(\"ll.txt\")"
   ]
  },
  {
   "cell_type": "markdown",
   "id": "2c372f93",
   "metadata": {},
   "source": [
    "### 7."
   ]
  },
  {
   "cell_type": "code",
   "execution_count": null,
   "id": "a556b086",
   "metadata": {},
   "outputs": [],
   "source": [
    "def read_lines_array(file):\n",
    "    text = []\n",
    "    try:     \n",
    "        with open(file, \"r\") as f:\n",
    "            lines = f.readlines()\n",
    "            for line in lines:\n",
    "                text.append(line.strip())\n",
    "            return text\n",
    "    except FileNotFoundError:\n",
    "        return \"Error: File not found.\"\n",
    "    except IOError:\n",
    "        return \"Error: An I/O error occurred while reading the file.\"\n",
    "\n",
    "#Example use of the function\n",
    "read_lines_array(\"ll.txt\")"
   ]
  },
  {
   "cell_type": "markdown",
   "id": "e385a06d",
   "metadata": {},
   "source": [
    "### 8."
   ]
  },
  {
   "cell_type": "code",
   "execution_count": null,
   "id": "9a6b3437",
   "metadata": {},
   "outputs": [],
   "source": [
    "def longest_words(file):\n",
    "    try:\n",
    "        # Open the file in read mode\n",
    "        with open(file, 'r') as file:\n",
    "            # Initialize a list to store the results\n",
    "            longest_words_per_line = []\n",
    "\n",
    "            # Read the file line by line\n",
    "            for line_number, line in enumerate(file, start=1):\n",
    "                # Remove leading/trailing whitespace and split the line into words\n",
    "                words = line.strip().split()\n",
    "\n",
    "                if not words:  # Skip empty lines\n",
    "                    continue\n",
    "\n",
    "                # Find the length of the longest word(s) in the line\n",
    "                max_length = max(len(word) for word in words)\n",
    "\n",
    "                # Collect all words with the maximum length\n",
    "                longest_words = [word for word in words if len(word) == max_length]\n",
    "\n",
    "                # Append the result for this line to the results list\n",
    "                longest_words_per_line.append((line_number, longest_words))\n",
    "\n",
    "        # Print the results\n",
    "        for line_number, longest_words in longest_words_per_line:\n",
    "            print(f\"Line {line_number}: Longest word(s): {', '.join(longest_words)}\")\n",
    "\n",
    "    except FileNotFoundError:\n",
    "        return \"Error: File not found.\"\n",
    "    except IOError:\n",
    "        return \"Error: An I/O error occurred while reading the file.\"\n",
    "\n",
    "longest_words(\"ll.txt\")"
   ]
  },
  {
   "cell_type": "markdown",
   "id": "f1c38a17",
   "metadata": {},
   "source": [
    "### 9."
   ]
  },
  {
   "cell_type": "code",
   "execution_count": null,
   "id": "725cf4ec",
   "metadata": {},
   "outputs": [],
   "source": [
    "def line_count(file):\n",
    "    try:\n",
    "        with open(\"ll.txt\", \"r\") as f:\n",
    "            count = sum(1 for line in f)\n",
    "            return count\n",
    "    except FileNotFoundError:\n",
    "        return \"Error: File not found.\"\n",
    "    except IOError:\n",
    "        return \"Error: An I/O error occurred while reading the file.\"\n",
    "\n",
    "line_count(\"ll.txt\")"
   ]
  },
  {
   "cell_type": "markdown",
   "id": "8f754148",
   "metadata": {},
   "source": [
    "### 10."
   ]
  },
  {
   "cell_type": "code",
   "execution_count": null,
   "id": "4c8b851d",
   "metadata": {},
   "outputs": [],
   "source": [
    "from collections import Counter\n",
    "import re\n",
    "\n",
    "def count_word_occurrences(file):\n",
    "    try:\n",
    "        with open(file, 'r') as f:\n",
    "            # Extract words using regex (handles punctuation and case insensitivity)\n",
    "            words = re.findall(r'\\b\\w+\\b', f.read().lower())\n",
    "            # Converting the \"counter\" function to dictionary type\n",
    "            a = dict(Counter(words))\n",
    "            return a\n",
    "    except FileNotFoundError:\n",
    "        return \"Error: File not found.\"\n",
    "    except IOError:\n",
    "        return \"Error: An I/O error occurred while reading the file.\"\n",
    "    \n",
    "count_word_occurrences(\"ll.txt\")"
   ]
  },
  {
   "cell_type": "markdown",
   "id": "e7dbe41a",
   "metadata": {},
   "source": [
    "### 11."
   ]
  },
  {
   "cell_type": "code",
   "execution_count": null,
   "id": "f40f2f50",
   "metadata": {},
   "outputs": [],
   "source": [
    "import os\n",
    "\n",
    "def get_file_size(file):\n",
    "    try:\n",
    "        # Get file size in bytes.\n",
    "        file_size = os.path.getsize(file)\n",
    "        return f\"The size of the file is: {file_size} bytes\"\n",
    "    except FileNotFoundError:\n",
    "        return \"Error: File not found.\"\n",
    "    except IOError:\n",
    "        return \"Error: An I/O error occurred while reading the file.\"\n",
    "\n",
    "get_file_size(\"ll.txt\") "
   ]
  },
  {
   "cell_type": "markdown",
   "id": "0d666704",
   "metadata": {},
   "source": [
    "### 12."
   ]
  },
  {
   "cell_type": "code",
   "execution_count": null,
   "id": "9f04fa0c",
   "metadata": {},
   "outputs": [],
   "source": [
    "def write_list(file, list_data):\n",
    "    try:\n",
    "        with open(file, \"w\") as f:\n",
    "            for i in list_data:\n",
    "                f.write(f\"{i}\\n\")\n",
    "    except Exception as e:\n",
    "        return f\"An error occurred: {e}\"\n",
    "    \n",
    "write_list(\"list.txt\", [\"Apple\", \"Banana\", \"Orange\"])\n"
   ]
  },
  {
   "cell_type": "markdown",
   "id": "4fdecd38",
   "metadata": {},
   "source": [
    "### 13."
   ]
  },
  {
   "cell_type": "code",
   "execution_count": null,
   "id": "d096b26f",
   "metadata": {},
   "outputs": [],
   "source": [
    "def content_copy(source, destination):\n",
    "    try:\n",
    "        # Reading the source file.\n",
    "        with open(source, \"r\") as source:\n",
    "            content = source.read()\n",
    "        # Writing the destionation file, creates a new file if not found.\n",
    "        with open(destination, \"w\") as destiantion:\n",
    "            destiantion.write(content)\n",
    "    except FileNotFoundError:\n",
    "        return \"Error: File not found.\"\n",
    "    except Exception as e:\n",
    "        return \"An error occurred: {e}\"\n",
    "    \n",
    "content_copy(\"list.txt\", \"list2.txt\")\n",
    "\n",
    "    "
   ]
  },
  {
   "cell_type": "markdown",
   "id": "143649ae",
   "metadata": {},
   "source": [
    "### 14."
   ]
  },
  {
   "cell_type": "code",
   "execution_count": null,
   "id": "0ab4867d",
   "metadata": {},
   "outputs": [],
   "source": [
    "def combine_files(file1, file2, output_file):\n",
    "    try:\n",
    "        # Open both input files for reading\n",
    "        with open(file1, 'r') as f1, open(file2, 'r') as f2:\n",
    "            # Open the output file for writing\n",
    "            with open(output_file, 'w') as output_file:\n",
    "                # Iterate through both files line by line\n",
    "                for line1, line2 in zip(f1, f2):\n",
    "                    # Strip any extra whitespace or newline characters\n",
    "                    line1 = line1.strip()\n",
    "                    line2 = line2.strip()\n",
    "\n",
    "                    # Combine the lines with a delimiter (e.g., a space)\n",
    "                    combined_line = f\"{line1} {line2}\\n\"\n",
    "\n",
    "                    # Write the combined line to the output file\n",
    "                    output_file.write(combined_line)\n",
    "    except FileNotFoundError:\n",
    "        return \"Error: File not found.\"\n",
    "    except Exception as e:\n",
    "        return \"An error occurred: {e}.\"\n",
    "\n",
    "combine_files(\"list.txt\", \"list2.txt\", \"list3.txt\")\n",
    "print(open(\"list3.txt\").read())"
   ]
  },
  {
   "cell_type": "markdown",
   "id": "93a4910e",
   "metadata": {},
   "source": [
    "### 15."
   ]
  },
  {
   "cell_type": "code",
   "execution_count": null,
   "id": "a304a359",
   "metadata": {},
   "outputs": [],
   "source": [
    "import random\n",
    "\n",
    "def random_line_read(file):\n",
    "    try:\n",
    "        with open(file, \"r\") as f:\n",
    "            all_lines = f.readlines()\n",
    "        # Check if the file is empty\n",
    "        if not all_lines:\n",
    "            return \"File is empty.\"\n",
    "        # Randomly decide whether to keep the current line\n",
    "        random_line = random.choice(all_lines).strip()\n",
    "        return random_line\n",
    "    except FileNotFoundError:\n",
    "        return \"File not found.\"\n",
    "    except Exception as e:\n",
    "        return \"An error occurred: {e}.\"\n",
    "    \n",
    "random_line_read(\"ll.txt\")\n",
    "        "
   ]
  },
  {
   "cell_type": "markdown",
   "id": "78689a2f",
   "metadata": {},
   "source": [
    "### 16."
   ]
  },
  {
   "cell_type": "code",
   "execution_count": null,
   "id": "f02377dc",
   "metadata": {},
   "outputs": [],
   "source": [
    "def file_status(file):\n",
    "    try:\n",
    "        with open(file, \"r\") as f:\n",
    "            return f\"Is the file closed? {\"- Yes\" if f.closed == True else \" - No\"}\"\n",
    "        \n",
    "    except FileNotFoundError:\n",
    "        return \"Error: File not found.\"\n",
    "    except Exception as e:\n",
    "        return \"An error occurred: {e}\"\n",
    "\n",
    "file_status(\"ll.txt\")"
   ]
  },
  {
   "cell_type": "markdown",
   "id": "054360cd",
   "metadata": {},
   "source": [
    "### 17."
   ]
  },
  {
   "cell_type": "code",
   "execution_count": null,
   "id": "dabb39f0",
   "metadata": {},
   "outputs": [],
   "source": [
    "def new_line_strip(file, new_file):\n",
    "    try:\n",
    "        with open(file, \"r+\") as f:\n",
    "            content = f.read()\n",
    "            \n",
    "        new_content = content.replace(\"\\n\", \" \")\n",
    "            \n",
    "        with open(new_file, \"w\") as f:\n",
    "            f.write(new_content)\n",
    "        with open(new_file, \"r\") as f:\n",
    "            return f.read()\n",
    "    except FileNotFoundError:\n",
    "        return \"Error: File not found.\"\n",
    "    except Exception as e:\n",
    "        return \"An error occurred: {e}\"\n",
    "    \n",
    "\n",
    "new_line_strip(\"lll.txt\", \"new_f.txt\")"
   ]
  },
  {
   "cell_type": "markdown",
   "id": "8fc4919d",
   "metadata": {},
   "source": [
    "### 18."
   ]
  },
  {
   "cell_type": "code",
   "execution_count": null,
   "id": "be3a9bad",
   "metadata": {},
   "outputs": [],
   "source": [
    "def word_count(file):\n",
    "    try:\n",
    "        with open(file, \"r\") as f:\n",
    "            line = f.read()\n",
    "            line = line.replace(\",\", \" \")\n",
    "            line = line.split()\n",
    "            return len(line)\n",
    "    except FileNotFoundError:\n",
    "        return \"Error: File not found.\"\n",
    "    except IOError:\n",
    "        return \"Error: An I/O error occurred while reading the file.\"\n",
    "    \n",
    "word_count(\"ll.txt\")"
   ]
  },
  {
   "cell_type": "markdown",
   "id": "ddd5a104",
   "metadata": {},
   "source": [
    "### 19."
   ]
  },
  {
   "cell_type": "code",
   "execution_count": null,
   "id": "df62b965",
   "metadata": {},
   "outputs": [],
   "source": [
    "def extract_characters_from_files(file_paths):\n",
    "    \"\"\"\n",
    "    Extracts all characters from multiple text files and stores them in a list.\n",
    "\n",
    "    Args:\n",
    "        file_paths (list): A list of file paths to process.\n",
    "\n",
    "    Returns:\n",
    "        list: A list containing all characters from the files.\n",
    "    \"\"\"\n",
    "    all_characters = []  # List to store all characters\n",
    "\n",
    "    for file_path in file_paths:\n",
    "        try:\n",
    "            # Open the file in read mode\n",
    "            with open(file_path, 'r') as file:\n",
    "                # Read the content of the file\n",
    "                content = file.read()\n",
    "                # Extend the list with all characters from the file\n",
    "                all_characters.extend(content)\n",
    "        except FileNotFoundError:\n",
    "            print(f\"Error: The file '{file_path}' was not found.\")\n",
    "        except Exception as e:\n",
    "            print(f\"An unexpected error occurred while processing '{file_path}': {e}\")\n",
    "\n",
    "    return all_characters\n",
    "\n",
    "# Example usage\n",
    "if __name__ == \"__main__\":\n",
    "    # List of file paths to process\n",
    "    file_paths = ['D:\\\\Data Analytics_BI analyst\\\\SQL training\\\\python-homeworks\\\\lesson-8\\\\homework']  # Replace with your actual file paths\n",
    "    characters_list = extract_characters_from_files(file_paths)\n",
    "    \n",
    "    # Print the extracted characters\n",
    "    print(\"Extracted characters:\", characters_list)"
   ]
  },
  {
   "cell_type": "markdown",
   "id": "46959217",
   "metadata": {},
   "source": [
    "### 20."
   ]
  },
  {
   "cell_type": "code",
   "execution_count": null,
   "id": "d7a85820",
   "metadata": {},
   "outputs": [],
   "source": [
    "import string\n",
    "\n",
    "def create_text_files():\n",
    "    # Loop through all uppercase letters from A to Z\n",
    "    for letter in string.ascii_uppercase:\n",
    "        # Create the file name\n",
    "        file_name = f\"{letter}.txt\"\n",
    "        \n",
    "        # Open the file in write mode and close it immediately\n",
    "        with open(file_name, 'w') as file:\n",
    "            # Optionally, write some content into the file\n",
    "            file.write(f\"This is the content of {file_name}\\n\")\n",
    "        \n",
    "        print(f\"Created file: {file_name}\")\n",
    "\n",
    "# Call the function to create the files\n",
    "create_text_files()"
   ]
  },
  {
   "cell_type": "markdown",
   "id": "fa6c7522",
   "metadata": {},
   "source": [
    "### 21."
   ]
  },
  {
   "cell_type": "code",
   "execution_count": null,
   "id": "21c9ac6c",
   "metadata": {},
   "outputs": [],
   "source": [
    "import string\n",
    "\n",
    "def write_alphabet_to_file(file_name, letters_per_line):\n",
    "    \"\"\"\n",
    "    Writes the English alphabet to a file with a specified number of letters per line.\n",
    "\n",
    "    Args:\n",
    "        file_name (str): The name of the file to write to.\n",
    "        letters_per_line (int): The number of letters per line.\n",
    "    \"\"\"\n",
    "    # Get all uppercase letters of the English alphabet\n",
    "    alphabet = string.ascii_uppercase\n",
    "\n",
    "    try:\n",
    "        # Open the file in write mode\n",
    "        with open(file_name, 'w') as file:\n",
    "            # Iterate through the alphabet in chunks of size `letters_per_line`\n",
    "            for i in range(0, len(alphabet), letters_per_line):\n",
    "                # Extract a chunk of letters\n",
    "                chunk = alphabet[i:i + letters_per_line]\n",
    "                # Write the chunk to the file as a line\n",
    "                file.write(chunk + '\\n')\n",
    "        print(f\"File '{file_name}' created successfully.\")\n",
    "    except Exception as e:\n",
    "        print(f\"An error occurred: {e}\")\n",
    "\n",
    "# Example usage\n",
    "write_alphabet_to_file(file_name, letters_per_line)"
   ]
  }
 ],
 "metadata": {
  "kernelspec": {
   "display_name": "Python 3",
   "language": "python",
   "name": "python3"
  },
  "language_info": {
   "codemirror_mode": {
    "name": "ipython",
    "version": 3
   },
   "file_extension": ".py",
   "mimetype": "text/x-python",
   "name": "python",
   "nbconvert_exporter": "python",
   "pygments_lexer": "ipython3",
   "version": "3.13.1"
  }
 },
 "nbformat": 4,
 "nbformat_minor": 5
}
