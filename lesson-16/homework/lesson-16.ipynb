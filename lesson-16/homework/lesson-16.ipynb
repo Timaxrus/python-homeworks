{
 "cells": [
  {
   "cell_type": "markdown",
   "id": "ee92c945",
   "metadata": {},
   "source": [
    "#### 1."
   ]
  },
  {
   "cell_type": "code",
   "execution_count": null,
   "id": "79c3628b",
   "metadata": {},
   "outputs": [],
   "source": [
    "import numpy as np\n",
    "\n",
    "# Original list\n",
    "my_list = [12.23, 13.32, 100, 36.32]\n",
    "\n",
    "\n",
    "# Function that creates 1D array from a list given as parameter\n",
    "def array_creator(any_list):\n",
    "\n",
    "    # Convert to 1D NumPy array\n",
    "    my_arr = np.array(any_list)\n",
    "\n",
    "    # Print the result\n",
    "    print(my_arr)\n",
    "\n",
    "\n",
    "# Sample use of the function\n",
    "array_creator(my_list)\n",
    "\n"
   ]
  },
  {
   "cell_type": "markdown",
   "id": "72213e98",
   "metadata": {},
   "source": [
    "#### 2."
   ]
  },
  {
   "cell_type": "code",
   "execution_count": null,
   "id": "eb66f6a3",
   "metadata": {},
   "outputs": [],
   "source": [
    "import numpy as np\n",
    "\n",
    "# Creating a new array with arange() from 2 to 10 inclusive.\n",
    "new_arr = np.arange(2, 11)\n",
    "\n",
    "# Reshaping the new arr with reshape method\n",
    "new_arr = new_arr.reshape(3, 3)\n",
    "\n",
    "# Printing the result\n",
    "print(new_arr)"
   ]
  },
  {
   "cell_type": "markdown",
   "id": "538ed2d9",
   "metadata": {},
   "source": [
    "#### 3."
   ]
  },
  {
   "cell_type": "code",
   "execution_count": null,
   "id": "954e5b7a",
   "metadata": {},
   "outputs": [],
   "source": [
    "import numpy as np\n",
    "\n",
    "# Numpy array consisting of 10 zeroes\n",
    "z_arr = np.zeros(10)\n",
    "\n",
    "# Updating the 6th element to 11\n",
    "z_arr[6] = 11\n",
    "\n",
    "# Printing the result\n",
    "print(z_arr)"
   ]
  },
  {
   "cell_type": "markdown",
   "id": "21b4aacc",
   "metadata": {},
   "source": [
    "#### 4."
   ]
  },
  {
   "cell_type": "code",
   "execution_count": null,
   "id": "7d1104c8",
   "metadata": {},
   "outputs": [],
   "source": [
    "import numpy as np\n",
    "\n",
    "# Creating an array with 'arange()' function that starts with 12 and ends with 37\n",
    "arr1 = np.arange(12, 38)\n",
    "\n",
    "# Print the created array\n",
    "print(arr1)"
   ]
  },
  {
   "cell_type": "markdown",
   "id": "b7354da2",
   "metadata": {},
   "source": [
    "#### 5."
   ]
  },
  {
   "cell_type": "code",
   "execution_count": null,
   "id": "f07db8fa",
   "metadata": {},
   "outputs": [],
   "source": [
    "import numpy as np\n",
    "\n",
    "# Given sample array\n",
    "sample_arr = np.array([1, 2, 3, 4])\n",
    "\n",
    "# Converting the data type of the elements of sample array to float\n",
    "float_arr = sample_arr.astype('float')\n",
    "\n",
    "\n",
    "# Printing the result\n",
    "print(float_arr)\n"
   ]
  },
  {
   "cell_type": "markdown",
   "id": "5a504fe6",
   "metadata": {},
   "source": [
    "#### 6."
   ]
  },
  {
   "cell_type": "code",
   "execution_count": null,
   "id": "eac4b48b",
   "metadata": {},
   "outputs": [],
   "source": [
    "import numpy as np\n",
    "\n",
    "# Given sample array of Centigrade degrees\n",
    "C_arr = np.array([-17.78, -11.11, 7.34, 1.11, 37.73, 0. ])\n",
    "\n",
    "# Converting the Centigrade degree tinto Fahrenheit degrees\n",
    "F_arr = np.round(((C_arr * 9/5) + 32), 2)\n",
    "\n",
    "\n",
    "# Given sample array of Fahrenheit degrees\n",
    "F_new_arr = np.array([-0, 12,  45.21, 34, 99.91, 32])\n",
    "\n",
    "\n",
    "# Converting the Fahrenheit degrees into Centigrade degrees\n",
    "C_new_arr = np.round(((F_new_arr - 32) * 5/9), 2)\n",
    "\n",
    "\n",
    "print(f\"Centigrade degrees: {C_arr} \\nFahrenheit degrees: {F_arr}\")\n",
    "print(f\"Fahrenheit degrees: {F_new_arr} \\nCentigrade degrees: {C_new_arr}\")\n",
    "\n"
   ]
  },
  {
   "cell_type": "markdown",
   "id": "0ac083dd",
   "metadata": {},
   "source": [
    "#### 7."
   ]
  },
  {
   "cell_type": "code",
   "execution_count": null,
   "id": "20b093bc",
   "metadata": {},
   "outputs": [],
   "source": [
    "import numpy as np\n",
    "\n",
    "# Given array\n",
    "arr = np.array([10, 20, 30])\n",
    "\n",
    "# Second array to append to arr\n",
    "arr1 = np.array([40, 50, 60, 70, 80, 90])\n",
    "\n",
    "# Result array after concatenating two arrays\n",
    "arr2 = np.concatenate((arr, arr1))\n",
    "\n",
    "print(arr2)"
   ]
  },
  {
   "cell_type": "markdown",
   "id": "b5c883f7",
   "metadata": {},
   "source": [
    "#### 8."
   ]
  },
  {
   "cell_type": "code",
   "execution_count": null,
   "id": "b71ca617",
   "metadata": {},
   "outputs": [],
   "source": [
    "import numpy as np\n",
    "from numpy import random\n",
    "\n",
    "# Creating the random array with random module from numpy\n",
    "rand_arr = random.randint(100, size=10) \n",
    "\n",
    "# Mean() method returns the mean value of the array\n",
    "mean_val = np.mean(rand_arr)\n",
    "\n",
    "# Median() method returns the median value of the array\n",
    "median_val = np.median(rand_arr)\n",
    "\n",
    "# std() method returns the standard deviation of the array\n",
    "std_val = np.std(rand_arr)\n",
    "\n",
    "print(f\"The mean: {mean_val}; \\nThe median: {median_val}; \\nThe standar deviation: {std_val}\")"
   ]
  },
  {
   "cell_type": "markdown",
   "id": "e79a2467",
   "metadata": {},
   "source": [
    "#### 9."
   ]
  },
  {
   "cell_type": "code",
   "execution_count": null,
   "id": "27b3dae0",
   "metadata": {},
   "outputs": [],
   "source": [
    "import numpy as np\n",
    "from numpy import random\n",
    "\n",
    "# Creating the random array of the size 10x10\n",
    "ten_ten = random.randint(100, size=(10, 10))\n",
    "\n",
    "# Max() method returns the maximum value from the array\n",
    "max_val = ten_ten.max()\n",
    "\n",
    "\n",
    "# Min() method returns the minimum value from the array\n",
    "min_val = ten_ten.min()\n",
    "\n",
    "print(f\"The maximum value: {max_val} \\nThe minimum value: {min_val}\")"
   ]
  },
  {
   "cell_type": "markdown",
   "id": "1cb4c4dd",
   "metadata": {},
   "source": [
    "#### 10."
   ]
  },
  {
   "cell_type": "code",
   "execution_count": null,
   "id": "e2d90206",
   "metadata": {},
   "outputs": [
    {
     "name": "stdout",
     "output_type": "stream",
     "text": [
      "[[[0.75 0.72 0.51]\n",
      "  [0.63 0.55 0.25]\n",
      "  [0.3  0.18 0.63]]\n",
      "\n",
      " [[0.9  0.78 0.13]\n",
      "  [0.79 0.11 0.67]\n",
      "  [0.18 0.92 0.77]]\n",
      "\n",
      " [[0.49 0.26 0.26]\n",
      "  [0.03 0.66 0.57]\n",
      "  [0.79 0.44 0.91]]]\n"
     ]
    }
   ],
   "source": [
    "import numpy as np\n",
    "from numpy import random\n",
    "\n",
    "# Creating the random array of 3x3x3 and rounding it up to 2\n",
    "cube = np.round(random.rand(3, 3, 3), 2)\n",
    "\n",
    "print(cube)"
   ]
  }
 ],
 "metadata": {
  "kernelspec": {
   "display_name": "my_env",
   "language": "python",
   "name": "python3"
  },
  "language_info": {
   "codemirror_mode": {
    "name": "ipython",
    "version": 3
   },
   "file_extension": ".py",
   "mimetype": "text/x-python",
   "name": "python",
   "nbconvert_exporter": "python",
   "pygments_lexer": "ipython3",
   "version": "3.13.1"
  }
 },
 "nbformat": 4,
 "nbformat_minor": 5
}
