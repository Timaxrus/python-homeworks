{
 "cells": [
  {
   "cell_type": "markdown",
   "id": "e152d716",
   "metadata": {},
   "source": [
    "#### 1."
   ]
  },
  {
   "cell_type": "code",
   "execution_count": 41,
   "id": "006817bc",
   "metadata": {},
   "outputs": [
    {
     "name": "stdout",
     "output_type": "stream",
     "text": [
      "\n",
      "STUDENT REPORT\n",
      "==============\n",
      "\n",
      "🆔 Student ID: 1001\n",
      "👤 Name: Emily Chen\n",
      "🎂 Age: 20\n",
      "✉️ Email: emily.chen@university.edu\n",
      "📚 Courses: Data Structures, Algorithms, Database Systems\n",
      "---------------------------------------------\n",
      "\n",
      "🆔 Student ID: 1002\n",
      "👤 Name: James Rodriguez\n",
      "🎂 Age: 22\n",
      "✉️ Email: j.rodriguez@university.edu\n",
      "📚 Courses: Circuit Theory, Digital Systems, Signals Processing\n",
      "---------------------------------------------\n",
      "\n",
      "🆔 Student ID: 1003\n",
      "👤 Name: Sophia Patel\n",
      "🎂 Age: 21\n",
      "✉️ Email: sophia.p@university.edu\n",
      "📚 Courses: Genetics, Organic Chemistry, Cell Biology\n",
      "---------------------------------------------\n",
      "\n",
      "🆔 Student ID: 1004\n",
      "👤 Name: Liam Johnson\n",
      "🎂 Age: 23\n",
      "✉️ Email: liam.j@university.edu\n",
      "📚 Courses: Marketing, Financial Accounting, Business Law\n",
      "---------------------------------------------\n",
      "\n",
      "🆔 Student ID: 1005\n",
      "👤 Name: Aisha Khan\n",
      "🎂 Age: 19\n",
      "✉️ Email: a.khan@university.edu\n",
      "📚 Courses: Cognitive Psychology, Research Methods, Abnormal Psychology\n",
      "---------------------------------------------\n",
      "\n",
      "✅ Processed 5 valid student records\n",
      "⚠️ Skipped 0 invalid records\n"
     ]
    }
   ],
   "source": [
    "import json\n",
    "\n",
    "# Open and read the JSON file\n",
    "try:\n",
    "    # Using 'with' ensures the file closes automatically\n",
    "    with open('students.json', 'r') as file:\n",
    "        # Parse JSON content into Python objects\n",
    "        students_data = json.load(file)\n",
    "        \n",
    "    # Check if the data is a list as expected\n",
    "    if not isinstance(students_data, list):\n",
    "        print(\"Error: JSON data should be a list of students\")\n",
    "        exit()  # Stop execution if data format is wrong\n",
    "\n",
    "    # Print report header\n",
    "    print(\"\\nSTUDENT REPORT\")\n",
    "    print(\"==============\")\n",
    "\n",
    "    # Counter for valid student records\n",
    "    valid_students = 0\n",
    "\n",
    "    # Process each student record\n",
    "    for record in students_data:\n",
    "        # Skip if the record isn't a dictionary\n",
    "        if not isinstance(record, dict):\n",
    "            print(\"\\n⚠️ Invalid student record (skipping):\", record)\n",
    "            continue\n",
    "\n",
    "        # Extract data with defaults for missing fields\n",
    "        student_id = record.get('id', 'ID-MISSING')\n",
    "        name = record.get('name', 'NAME-MISSING')\n",
    "        age = record.get('age', 'AGE-MISSING')\n",
    "        email = record.get('email', 'EMAIL-MISSING')\n",
    "        courses = record.get('courses', [])  # Default to empty list\n",
    "\n",
    "        # Print student details\n",
    "        print(f\"\\n🆔 Student ID: {student_id}\")\n",
    "        print(f\"👤 Name: {name}\")\n",
    "        print(f\"🎂 Age: {age}\")\n",
    "        print(f\"✉️ Email: {email}\")\n",
    "\n",
    "        # Handle courses display\n",
    "        if courses:  # If courses list exists and isn't empty\n",
    "            print(\"📚 Courses:\", \", \".join(courses))\n",
    "        else:\n",
    "            print(\"📚 Courses: No courses enrolled\")\n",
    "\n",
    "        print(\"---\" * 15)  # Separator line\n",
    "        valid_students += 1\n",
    "\n",
    "    # Print summary\n",
    "    print(f\"\\n✅ Processed {valid_students} valid student records\")\n",
    "    print(f\"⚠️ Skipped {len(students_data) - valid_students} invalid records\")\n",
    "\n",
    "# Handle potential errors\n",
    "except FileNotFoundError:\n",
    "    print(\"❌ Error: students.json file not found\")\n",
    "except json.JSONDecodeError:\n",
    "    print(\"❌ Error: Invalid JSON format in file\")\n",
    "except Exception as error:\n",
    "    print(f\"❌ Unexpected error: {str(error)}\")"
   ]
  },
  {
   "cell_type": "markdown",
   "id": "7bb98d18",
   "metadata": {},
   "source": [
    "#### 2."
   ]
  },
  {
   "cell_type": "code",
   "execution_count": null,
   "id": "73534814",
   "metadata": {},
   "outputs": [],
   "source": []
  }
 ],
 "metadata": {
  "kernelspec": {
   "display_name": "Python 3",
   "language": "python",
   "name": "python3"
  },
  "language_info": {
   "codemirror_mode": {
    "name": "ipython",
    "version": 3
   },
   "file_extension": ".py",
   "mimetype": "text/x-python",
   "name": "python",
   "nbconvert_exporter": "python",
   "pygments_lexer": "ipython3",
   "version": "3.13.1"
  }
 },
 "nbformat": 4,
 "nbformat_minor": 5
}
